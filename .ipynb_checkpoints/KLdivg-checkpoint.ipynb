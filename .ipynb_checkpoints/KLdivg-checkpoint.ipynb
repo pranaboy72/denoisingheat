{
 "cells": [
  {
   "cell_type": "code",
   "execution_count": null,
   "metadata": {},
   "outputs": [],
   "source": [
    "# import numpy as np\n",
    "# from scipy.stats import entropy, multivariate_normal\n",
    "\n",
    "# # 1. Load the npy file\n",
    "# data = np.load(\"path_to_file.npy\")\n",
    "\n",
    "# # 2. Binning the Data\n",
    "# # Create a histogram for 2D data\n",
    "# hist, xedges, yedges = np.histogram2d(data[:, 0], data[:, 1], bins=[30, 30])  # Choose the bin size that fits your data best\n",
    "# data_distribution = hist.flatten() + 1e-10  # Flatten and add a small constant to avoid zeros\n",
    "\n",
    "# # Normalize the data distribution\n",
    "# data_distribution /= data_distribution.sum()\n",
    "\n",
    "# # Generate a grid over which we evaluate the Gaussians\n",
    "# X, Y = np.meshgrid(xedges[:-1], yedges[:-1])\n",
    "# pos = np.dstack((X, Y))\n",
    "\n",
    "# # 3. Generate the First Reference Distribution\n",
    "# goal_mean1 = [-0.7, 0.7]\n",
    "# cov_matrix1 = [[0.1**2, 0], [0, 0.1**2]]\n",
    "# ref_distribution1 = multivariate_normal.pdf(pos, mean=goal_mean1, cov=cov_matrix1).flatten()\n",
    "# ref_distribution1 /= ref_distribution1.sum()\n",
    "\n",
    "# # 3b. Generate the Second Reference Distribution\n",
    "# goal_mean2 = [0.7, -0.7]\n",
    "# cov_matrix2 = [[0.1**2, 0], [0, 0.1**2]]\n",
    "# ref_distribution2 = multivariate_normal.pdf(pos, mean=goal_mean2, cov=cov_matrix2).flatten()\n",
    "# ref_distribution2 /= ref_distribution2.sum()\n",
    "\n",
    "# # 4. Calculate KL Divergence for both reference distributions\n",
    "# kl_div1 = entropy(data_distribution, ref_distribution1)\n",
    "# kl_div2 = entropy(data_distribution, ref_distribution2)\n",
    "\n",
    "# print(\"KL Divergence for Goal 1:\", kl_div1)\n",
    "# print(\"KL Divergence for Goal 2:\", kl_div2)"
   ]
  },
  {
   "cell_type": "code",
   "execution_count": 44,
   "metadata": {},
   "outputs": [],
   "source": [
    "import numpy as np\n",
    "\n",
    "def compute_gaussian_density(x, mean, std_dev=0.1563):\n",
    "    \"\"\"\n",
    "    Compute the Gaussian density for x given mean and std_dev.\n",
    "    \"\"\"\n",
    "    exponent = -((x[0] - mean[0])**2 + (x[1] - mean[1])**2) / (2 * std_dev**2)\n",
    "    return (1 / (2 * np.pi * std_dev**2)) * np.exp(exponent)\n",
    "\n",
    "def compute_divergence(points, means):\n",
    "    \"\"\"\n",
    "    Compute the KL divergence of empirical distribution against joint target distribution.\n",
    "    \"\"\"\n",
    "    N = len(points)\n",
    "    total_divergence = 0.0\n",
    "    \n",
    "    for x in points:\n",
    "        # Compute the joint density of x under all means (goal distributions)\n",
    "        joint_density = sum(compute_gaussian_density(x, mean) for mean in means)\n",
    "        total_divergence += np.log(1 / (N * joint_density + 1e-10))\n",
    "    \n",
    "    return total_divergence / N\n"
   ]
  },
  {
   "cell_type": "code",
   "execution_count": 47,
   "metadata": {},
   "outputs": [
    {
     "name": "stdout",
     "output_type": "stream",
     "text": [
      "[23.023674 22.97395 ]\n"
     ]
    }
   ],
   "source": [
    "states = np.load(\"./results/baselines/BC/multi_state.npy\")\n",
    "means = [[0.7, -0.7],[-0.7,-0.7]]\n",
    "\n",
    "print(compute_divergence(states, means))"
   ]
  }
 ],
 "metadata": {
  "kernelspec": {
   "display_name": "Python 3 (ipykernel)",
   "language": "python",
   "name": "python3"
  },
  "language_info": {
   "codemirror_mode": {
    "name": "ipython",
    "version": 3
   },
   "file_extension": ".py",
   "mimetype": "text/x-python",
   "name": "python",
   "nbconvert_exporter": "python",
   "pygments_lexer": "ipython3",
   "version": "3.8.10"
  }
 },
 "nbformat": 4,
 "nbformat_minor": 4
}
