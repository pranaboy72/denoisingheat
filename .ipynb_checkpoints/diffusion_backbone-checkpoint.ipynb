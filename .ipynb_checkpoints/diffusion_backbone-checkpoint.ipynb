{
 "cells": [
  {
   "cell_type": "code",
   "execution_count": 8,
   "metadata": {},
   "outputs": [],
   "source": [
    "import os\n",
    "import math\n",
    "\n",
    "import torch\n",
    "import torch.nn.functional as F\n",
    "from tqdm import tqdm\n",
    "\n",
    "from scorefield.models.ddpm.denoising_diffusion import Unet\n",
    "from scorefield.models.ddpm.denoising_diffusion_1d import Unet1D, GaussianDiffusion1D, Dataset1D, Trainer1D\n",
    "from scorefield.models.ddpm.gaussian_diffusion import Diffusion\n",
    "from scorefield.utils.rendering import Maze2dRenderer\n",
    "from scorefield.utils.rl_utils import load_config\n",
    "from scorefield.utils.utils import log_num_check, imshow, gen_goals, random_batch, eval_batch\n",
    "from scorefield.utils.diffusion_utils import bilinear_interpolate\n"
   ]
  },
  {
   "cell_type": "code",
   "execution_count": 11,
   "metadata": {},
   "outputs": [
    {
     "ename": "NameError",
     "evalue": "name 'load_environment' is not defined",
     "output_type": "error",
     "traceback": [
      "\u001b[0;31m---------------------------------------------------------------------------\u001b[0m",
      "\u001b[0;31mNameError\u001b[0m                                 Traceback (most recent call last)",
      "Cell \u001b[0;32mIn[11], line 6\u001b[0m\n\u001b[1;32m      3\u001b[0m args \u001b[38;5;241m=\u001b[39m load_config(config_dir)\n\u001b[1;32m      4\u001b[0m device \u001b[38;5;241m=\u001b[39m args[\u001b[38;5;124m'\u001b[39m\u001b[38;5;124mdevice\u001b[39m\u001b[38;5;124m'\u001b[39m]\n\u001b[0;32m----> 6\u001b[0m renderer \u001b[38;5;241m=\u001b[39m \u001b[43mMaze2dRenderer\u001b[49m\u001b[43m(\u001b[49m\u001b[43margs\u001b[49m\u001b[43m)\u001b[49m\n\u001b[1;32m      7\u001b[0m env \u001b[38;5;241m=\u001b[39m renderer\u001b[38;5;241m.\u001b[39menv\n\u001b[1;32m      9\u001b[0m model_path \u001b[38;5;241m=\u001b[39m os\u001b[38;5;241m.\u001b[39mpath\u001b[38;5;241m.\u001b[39mjoin(args[\u001b[38;5;124m'\u001b[39m\u001b[38;5;124mlog_path\u001b[39m\u001b[38;5;124m'\u001b[39m], args[\u001b[38;5;124m'\u001b[39m\u001b[38;5;124mmodel_path\u001b[39m\u001b[38;5;124m'\u001b[39m])\n",
      "File \u001b[0;32m~/scorefield/scorefield/utils/rendering.py:64\u001b[0m, in \u001b[0;36mMaze2dRenderer.__init__\u001b[0;34m(self, args)\u001b[0m\n\u001b[1;32m     62\u001b[0m \u001b[38;5;28;01mdef\u001b[39;00m \u001b[38;5;21m__init__\u001b[39m(\u001b[38;5;28mself\u001b[39m, args): \n\u001b[1;32m     63\u001b[0m     \u001b[38;5;28mself\u001b[39m\u001b[38;5;241m.\u001b[39menv_name \u001b[38;5;241m=\u001b[39m args[\u001b[38;5;124m'\u001b[39m\u001b[38;5;124menv_name\u001b[39m\u001b[38;5;124m'\u001b[39m]\n\u001b[0;32m---> 64\u001b[0m     \u001b[38;5;28mself\u001b[39m\u001b[38;5;241m.\u001b[39menv \u001b[38;5;241m=\u001b[39m \u001b[43mload_environment\u001b[49m(args[\u001b[38;5;124m'\u001b[39m\u001b[38;5;124menv_name\u001b[39m\u001b[38;5;124m'\u001b[39m])\n\u001b[1;32m     65\u001b[0m     \u001b[38;5;28mself\u001b[39m\u001b[38;5;241m.\u001b[39m_background \u001b[38;5;241m=\u001b[39m \u001b[38;5;28mself\u001b[39m\u001b[38;5;241m.\u001b[39menv\u001b[38;5;241m.\u001b[39mmaze_arr \u001b[38;5;241m==\u001b[39m \u001b[38;5;241m10\u001b[39m\n\u001b[1;32m     66\u001b[0m     \u001b[38;5;28mself\u001b[39m\u001b[38;5;241m.\u001b[39m_remove_margins \u001b[38;5;241m=\u001b[39m \u001b[38;5;28;01mFalse\u001b[39;00m\n",
      "\u001b[0;31mNameError\u001b[0m: name 'load_environment' is not defined"
     ]
    }
   ],
   "source": [
    "# Args\n",
    "config_dir = \"./scorefield/configs/diffusion.yaml\"\n",
    "args = load_config(config_dir)\n",
    "device = args['device']\n",
    "\n",
    "renderer = Maze2dRenderer(args)\n",
    "env = renderer.env\n",
    "\n",
    "model_path = os.path.join(args['log_path'], args['model_path'])\n",
    "\n",
    "env.reset()\n",
    "map_img = renderer.map_init()"
   ]
  },
  {
   "cell_type": "code",
   "execution_count": 3,
   "metadata": {},
   "outputs": [],
   "source": [
    "class Unet2D(Unet):\n",
    "    def __init__(\n",
    "        self, \n",
    "        dim, \n",
    "        out_dim, \n",
    "        dim_mults=(1, 2, 4, 8)\n",
    "    ):\n",
    "        super().__init__(dim=dim, out_dim=out_dim, dim_mults=dim_mults)\n",
    "        \n",
    "    def forward(self, obs, x, t):\n",
    "        score_map = super().forward(obs, t)\n",
    "        score = bilinear_interpolate(score_map, x)    # output: (B,2)\n",
    "        return score\n",
    "\n",
    "img_size = args['image_size']\n",
    "noise_steps = args['noise_steps']\n",
    "train_lr = args['train_lr']\n",
    "    \n",
    "model = Unet2D(\n",
    "    dim=img_size,\n",
    "    out_dim = 2,\n",
    "    dim_mults = (1, 2, 4, 8),\n",
    ").to(device)\n",
    "\n",
    "diffusion = Diffusion(\n",
    "    input_size = (2,), \n",
    "    noise_steps= noise_steps,\n",
    "    device=device,\n",
    ")\n",
    "\n",
    "optim = torch.optim.Adam(params=model.parameters(), lr=train_lr)"
   ]
  },
  {
   "cell_type": "code",
   "execution_count": 4,
   "metadata": {},
   "outputs": [
    {
     "name": "stdout",
     "output_type": "stream",
     "text": [
      "iter 0: 140.65213012695312\n",
      "iter 100: 11.471358299255371\n",
      "iter 200: 10.385260581970215\n",
      "iter 300: 4.039562225341797\n",
      "iter 400: 9.972517013549805\n",
      "iter 500: 7.142106056213379\n",
      "iter 600: 7.842304229736328\n",
      "iter 700: 5.50502872467041\n",
      "iter 800: 7.726894378662109\n",
      "iter 900: 3.068937301635742\n",
      "iter 1000: 8.652286529541016\n",
      "iter 1100: 6.7918243408203125\n",
      "iter 1200: 10.692790985107422\n",
      "iter 1300: 4.7898406982421875\n",
      "iter 1400: 7.0443291664123535\n",
      "iter 1500: 5.160170078277588\n",
      "iter 1600: 9.308061599731445\n",
      "iter 1700: 4.450427532196045\n",
      "iter 1800: 6.8185625076293945\n",
      "iter 1900: 6.810050964355469\n"
     ]
    }
   ],
   "source": [
    "epochs = args['epochs']\n",
    "batch_size = args['batch_size']\n",
    "\n",
    "for iters in range(epochs):\n",
    "    obs, goals = random_batch(renderer, map_img, batch_size)\n",
    "    obs = torch.tensor(obs, dtype=torch.float32).to(device)\n",
    "    goals = torch.tensor(goals).to(device)\n",
    "    t = diffusion.sample_timesteps(batch_size).to(device)\n",
    "    \n",
    "    x_t = diffusion.noise_goal(goals, t).to(device)\n",
    "    target_score = -(x_t - goals)  # It has to be divided by sigma^2, but sigma=1 in this case\n",
    "    predicted_score = model(obs, x_t, t)\n",
    "        \n",
    "    loss = F.mse_loss(predicted_score, target_score)\n",
    "    \n",
    "    optim.zero_grad()\n",
    "    loss.backward()\n",
    "    optim.step()\n",
    "    \n",
    "    if iters % 100 == 0:\n",
    "        print(f\"iter {iters}: {loss.item()}\")\n",
    "    \n",
    "    "
   ]
  },
  {
   "cell_type": "code",
   "execution_count": 5,
   "metadata": {},
   "outputs": [],
   "source": [
    "torch.save(model.state_dict(), \"./logs/pretrained/denoising.pt\")"
   ]
  },
  {
   "cell_type": "code",
   "execution_count": 6,
   "metadata": {},
   "outputs": [
    {
     "ename": "KeyError",
     "evalue": "'eval_batch_size'",
     "output_type": "error",
     "traceback": [
      "\u001b[0;31m---------------------------------------------------------------------------\u001b[0m",
      "\u001b[0;31mKeyError\u001b[0m                                  Traceback (most recent call last)",
      "Cell \u001b[0;32mIn[6], line 3\u001b[0m\n\u001b[1;32m      1\u001b[0m model \u001b[39m=\u001b[39m model\u001b[39m.\u001b[39meval()\n\u001b[0;32m----> 3\u001b[0m eval_batch_size \u001b[39m=\u001b[39m args[\u001b[39m'\u001b[39;49m\u001b[39meval_batch_size\u001b[39;49m\u001b[39m'\u001b[39;49m]\n\u001b[1;32m      4\u001b[0m target \u001b[39m=\u001b[39m args[\u001b[39m'\u001b[39m\u001b[39mtarget\u001b[39m\u001b[39m'\u001b[39m]\n\u001b[1;32m      6\u001b[0m obs, goals \u001b[39m=\u001b[39m eval_batch(renderer, map_img, target, eval_batch_size, device\u001b[39m=\u001b[39mdevice)\n",
      "\u001b[0;31mKeyError\u001b[0m: 'eval_batch_size'"
     ]
    }
   ],
   "source": [
    "model = model.eval()\n",
    "\n",
    "eval_batch_size = args['eval_batch_size']\n",
    "init_state = args['init_state']\n",
    "\n",
    "obs = eval_batch(renderer, map_img, init_state, eval_batch_size, device=device)\n",
    "obs = torch.tensor(obs, dtype=torch.float32).to(device)\n",
    "x = torch.tensor(init_state).to(device)\n",
    "\n",
    "dt = 0.01\n",
    "trajectory = [x]\n",
    "\n",
    "for t in tqdm(range(noise_steps)):\n",
    "    with torch.no_grad():\n",
    "        score = model(obs, x, noise_steps-t)\n",
    "    z_t = torch.randn_like(x)   # z_t ~ N(0,I)\n",
    "        \n",
    "    x = x + score * dt / 2. + math.sqrt(dt) * z_t\n",
    "    trajectory.append(x)\n",
    "trajectory = torch.tensor(trajectory)"
   ]
  },
  {
   "cell_type": "code",
   "execution_count": null,
   "metadata": {},
   "outputs": [],
   "source": []
  }
 ],
 "metadata": {
  "kernelspec": {
   "display_name": "Python 3 (ipykernel)",
   "language": "python",
   "name": "python3"
  },
  "language_info": {
   "codemirror_mode": {
    "name": "ipython",
    "version": 3
   },
   "file_extension": ".py",
   "mimetype": "text/x-python",
   "name": "python",
   "nbconvert_exporter": "python",
   "pygments_lexer": "ipython3",
   "version": "3.8.10"
  }
 },
 "nbformat": 4,
 "nbformat_minor": 4
}
