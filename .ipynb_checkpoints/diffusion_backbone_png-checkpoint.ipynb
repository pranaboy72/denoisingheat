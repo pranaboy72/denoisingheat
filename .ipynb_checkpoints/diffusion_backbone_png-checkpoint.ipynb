{
 "cells": [
  {
   "cell_type": "code",
   "execution_count": 1,
   "metadata": {},
   "outputs": [
    {
     "name": "stderr",
     "output_type": "stream",
     "text": [
      "/usr/local/lib/python3.8/dist-packages/tqdm/auto.py:22: TqdmWarning: IProgress not found. Please update jupyter and ipywidgets. See https://ipywidgets.readthedocs.io/en/stable/user_install.html\n",
      "  from .autonotebook import tqdm as notebook_tqdm\n"
     ]
    },
    {
     "ename": "ModuleNotFoundError",
     "evalue": "No module named 'einops'",
     "output_type": "error",
     "traceback": [
      "\u001b[0;31m---------------------------------------------------------------------------\u001b[0m",
      "\u001b[0;31mModuleNotFoundError\u001b[0m                       Traceback (most recent call last)",
      "Cell \u001b[0;32mIn[1], line 10\u001b[0m\n\u001b[1;32m      7\u001b[0m \u001b[38;5;28;01mfrom\u001b[39;00m \u001b[38;5;21;01mtqdm\u001b[39;00m \u001b[38;5;28;01mimport\u001b[39;00m tqdm\n\u001b[1;32m      8\u001b[0m \u001b[38;5;28;01mfrom\u001b[39;00m \u001b[38;5;21;01mPIL\u001b[39;00m \u001b[38;5;28;01mimport\u001b[39;00m Image, ImageDraw\n\u001b[0;32m---> 10\u001b[0m \u001b[38;5;28;01mfrom\u001b[39;00m \u001b[38;5;21;01mscorefield\u001b[39;00m\u001b[38;5;21;01m.\u001b[39;00m\u001b[38;5;21;01mmodels\u001b[39;00m\u001b[38;5;21;01m.\u001b[39;00m\u001b[38;5;21;01mddpm\u001b[39;00m\u001b[38;5;21;01m.\u001b[39;00m\u001b[38;5;21;01mdenoising_diffusion\u001b[39;00m \u001b[38;5;28;01mimport\u001b[39;00m Unet\n\u001b[1;32m     11\u001b[0m \u001b[38;5;28;01mfrom\u001b[39;00m \u001b[38;5;21;01mscorefield\u001b[39;00m\u001b[38;5;21;01m.\u001b[39;00m\u001b[38;5;21;01mmodels\u001b[39;00m\u001b[38;5;21;01m.\u001b[39;00m\u001b[38;5;21;01mddpm\u001b[39;00m\u001b[38;5;21;01m.\u001b[39;00m\u001b[38;5;21;01mdenoising_diffusion_1d\u001b[39;00m \u001b[38;5;28;01mimport\u001b[39;00m Unet1D, GaussianDiffusion1D, Dataset1D, Trainer1D\n\u001b[1;32m     12\u001b[0m \u001b[38;5;28;01mfrom\u001b[39;00m \u001b[38;5;21;01mscorefield\u001b[39;00m\u001b[38;5;21;01m.\u001b[39;00m\u001b[38;5;21;01mmodels\u001b[39;00m\u001b[38;5;21;01m.\u001b[39;00m\u001b[38;5;21;01mddpm\u001b[39;00m\u001b[38;5;21;01m.\u001b[39;00m\u001b[38;5;21;01mgaussian_diffusion\u001b[39;00m \u001b[38;5;28;01mimport\u001b[39;00m Diffusion\n",
      "File \u001b[0;32m~/scorefield/scorefield/models/ddpm/denoising_diffusion.py:19\u001b[0m\n\u001b[1;32m     15\u001b[0m \u001b[38;5;28;01mfrom\u001b[39;00m \u001b[38;5;21;01mtorch\u001b[39;00m\u001b[38;5;21;01m.\u001b[39;00m\u001b[38;5;21;01moptim\u001b[39;00m \u001b[38;5;28;01mimport\u001b[39;00m Adam\n\u001b[1;32m     17\u001b[0m \u001b[38;5;28;01mfrom\u001b[39;00m \u001b[38;5;21;01mtorchvision\u001b[39;00m \u001b[38;5;28;01mimport\u001b[39;00m transforms \u001b[38;5;28;01mas\u001b[39;00m T, utils\n\u001b[0;32m---> 19\u001b[0m \u001b[38;5;28;01mfrom\u001b[39;00m \u001b[38;5;21;01meinops\u001b[39;00m \u001b[38;5;28;01mimport\u001b[39;00m rearrange, reduce, repeat\n\u001b[1;32m     20\u001b[0m \u001b[38;5;28;01mfrom\u001b[39;00m \u001b[38;5;21;01meinops\u001b[39;00m\u001b[38;5;21;01m.\u001b[39;00m\u001b[38;5;21;01mlayers\u001b[39;00m\u001b[38;5;21;01m.\u001b[39;00m\u001b[38;5;21;01mtorch\u001b[39;00m \u001b[38;5;28;01mimport\u001b[39;00m Rearrange\n\u001b[1;32m     22\u001b[0m \u001b[38;5;28;01mfrom\u001b[39;00m \u001b[38;5;21;01mPIL\u001b[39;00m \u001b[38;5;28;01mimport\u001b[39;00m Image\n",
      "\u001b[0;31mModuleNotFoundError\u001b[0m: No module named 'einops'"
     ]
    }
   ],
   "source": [
    "import os\n",
    "import math\n",
    "\n",
    "import torch\n",
    "import torch.nn.functional as F\n",
    "import numpy as np\n",
    "from tqdm import tqdm\n",
    "from PIL import Image, ImageDraw\n",
    "\n",
    "from scorefield.models.ddpm.denoising_diffusion import Unet\n",
    "from scorefield.models.ddpm.denoising_diffusion_1d import Unet1D, GaussianDiffusion1D, Dataset1D, Trainer1D\n",
    "from scorefield.models.ddpm.gaussian_diffusion import Diffusion\n",
    "# from scorefield.utils.rendering import Maze2dRenderer\n",
    "from scorefield.utils.rl_utils import load_config\n",
    "from scorefield.utils.utils import log_num_check, imshow, gen_goals, random_batch, eval_batch, prepare_input\n",
    "from scorefield.utils.diffusion_utils import bilinear_interpolate\n",
    "\n",
    "import matplotlib.pyplot as plt\n"
   ]
  },
  {
   "cell_type": "code",
   "execution_count": 2,
   "metadata": {},
   "outputs": [],
   "source": [
    "# Args\n",
    "config_dir = \"./scorefield/configs/diffusion.yaml\"\n",
    "args = load_config(config_dir)\n",
    "device = args['device']\n",
    "\n",
    "model_path = os.path.join(args['log_path'], args['model_path'])\n",
    "\n",
    "map_img = Image.open(\"map.png\")"
   ]
  },
  {
   "cell_type": "code",
   "execution_count": 3,
   "metadata": {},
   "outputs": [],
   "source": [
    "class Unet2D(Unet):\n",
    "    def __init__(\n",
    "        self, \n",
    "        dim, \n",
    "        out_dim, \n",
    "        dim_mults=(1, 2, 4, 8)\n",
    "    ):\n",
    "        super().__init__(dim=dim, out_dim=out_dim, dim_mults=dim_mults)\n",
    "\n",
    "    def forward(self, obs, x_t, t):\n",
    "        score_map = super().forward(obs, t)\n",
    "        score = bilinear_interpolate(score_map, x_t)    # output: (B,2)\n",
    "        return score\n",
    "\n",
    "img_size = args['image_size']\n",
    "noise_steps = args['noise_steps']\n",
    "train_lr = args['train_lr']\n",
    "    \n",
    "model = Unet2D(\n",
    "    dim=img_size,\n",
    "    out_dim = 2,\n",
    "    dim_mults = (1, 2, 4, 8),\n",
    ").to(device)\n",
    "\n",
    "diffusion = Diffusion(\n",
    "    input_size = (2,), \n",
    "    noise_steps= noise_steps,\n",
    "    device=device,\n",
    "    beta_start=1e-5,\n",
    "    beta_end=1e-3,\n",
    ")\n",
    "\n",
    "optim = torch.optim.Adam(params=model.parameters(), lr=train_lr)"
   ]
  },
  {
   "cell_type": "code",
   "execution_count": 10,
   "metadata": {},
   "outputs": [
    {
     "name": "stderr",
     "output_type": "stream",
     "text": [
      "  0%|          | 1/3000 [00:00<41:02,  1.22it/s]"
     ]
    },
    {
     "name": "stdout",
     "output_type": "stream",
     "text": [
      "iter 0: 0.15174509584903717\n"
     ]
    },
    {
     "name": "stderr",
     "output_type": "stream",
     "text": [
      " 33%|███▎      | 1001/3000 [12:55<25:50,  1.29it/s]"
     ]
    },
    {
     "name": "stdout",
     "output_type": "stream",
     "text": [
      "iter 1000: 0.18945777416229248\n"
     ]
    },
    {
     "name": "stderr",
     "output_type": "stream",
     "text": [
      " 67%|██████▋   | 2001/3000 [25:51<12:56,  1.29it/s]"
     ]
    },
    {
     "name": "stdout",
     "output_type": "stream",
     "text": [
      "iter 2000: 0.17408069968223572\n"
     ]
    },
    {
     "name": "stderr",
     "output_type": "stream",
     "text": [
      "100%|██████████| 3000/3000 [38:47<00:00,  1.29it/s]\n"
     ]
    }
   ],
   "source": [
    "epochs = args['epochs']\n",
    "batch_size = args['batch_size']\n",
    "\n",
    "for iters in tqdm(range(epochs)):\n",
    "    optim.zero_grad()\n",
    "    \n",
    "    x0 = (torch.rand(batch_size, 2, device=device, dtype=torch.float32)*2 -1.) *0.1\n",
    "    obs = prepare_input(args, map_img, goal_pos=x0, circle_rad=2)\n",
    "    t = diffusion.sample_timesteps(batch_size).to(device)\n",
    "    \n",
    "    x_noisy, noise = diffusion.forward_diffusion(x0, t)\n",
    "    noise_pred = model(obs, x_noisy, t)\n",
    "    loss =  F.l1_loss(noise, noise_pred)\n",
    "    loss.backward()\n",
    "    optim.step()\n",
    "    \n",
    "    if iters % 1000 == 0:\n",
    "        print(f\"iter {iters}: {loss.item()}\")\n"
   ]
  },
  {
   "cell_type": "code",
   "execution_count": 11,
   "metadata": {},
   "outputs": [],
   "source": [
    "torch.save(model.state_dict(), \"./logs/pretrained/denoising.pt\")\n",
    "# model.load_state_dict(torch.load('./logs/pretrained/denoising.pt'))"
   ]
  },
  {
   "cell_type": "code",
   "execution_count": 12,
   "metadata": {},
   "outputs": [
    {
     "name": "stderr",
     "output_type": "stream",
     "text": [
      "299it [00:31,  9.41it/s]\n"
     ]
    }
   ],
   "source": [
    "x_T = torch.tensor([[-0.5, 0.5]]*10, device=device, dtype=torch.float32)\n",
    "obs_T = prepare_input(args, map_img, goal_pos=x_T, circle_rad=2)\n",
    "\n",
    "x = x_T\n",
    "model.eval()\n",
    "with torch.no_grad():\n",
    "    for i in tqdm(reversed(range(1, noise_steps)), position=0):\n",
    "        t = (torch.ones(1) * i).long().to(device)\n",
    "        predicted_noise = model(obs_T, x, t)\n",
    "        alpha = diffusion.alpha[t]\n",
    "        alpha_hat = diffusion.alpha_hat[t]\n",
    "        beta = diffusion.beta[t]\n",
    "        if i > 1:\n",
    "            noise = torch.randn_like(x)\n",
    "        else:\n",
    "            noise = torch.zeros_like(x)\n",
    "        x = 1 / torch.sqrt(alpha) * (x - ((1 - alpha) / (torch.sqrt(1 - alpha_hat))) \\\n",
    "                    * predicted_noise) + torch.sqrt(beta) * noise"
   ]
  },
  {
   "cell_type": "code",
   "execution_count": 13,
   "metadata": {},
   "outputs": [],
   "source": [
    "def draw_samples(img, goal_pos, circle_rad:float=2):\n",
    "    W, H = img.width, img.height\n",
    "    \n",
    "    goal_pos_pix = ((1+goal_pos)/2 * torch.tensor([H,W], device=goal_pos.device, dtype=goal_pos.dtype))\n",
    "    img_new = img.copy()\n",
    "    draw = ImageDraw.Draw(img_new)\n",
    "    for center in goal_pos_pix.cpu().numpy():\n",
    "        w,h = center[1],center[0]\n",
    "        draw.ellipse((w-circle_rad, h-circle_rad, w+circle_rad, h+circle_rad), fill = 'red', outline='red')\n",
    "    return img_new"
   ]
  },
  {
   "cell_type": "code",
   "execution_count": 14,
   "metadata": {},
   "outputs": [
    {
     "data": {
      "text/plain": [
       "<matplotlib.image.AxesImage at 0x7fe5a5cd4e50>"
      ]
     },
     "execution_count": 14,
     "metadata": {},
     "output_type": "execute_result"
    },
    {
     "data": {
      "image/png": "[encoded data removed]",
      "text/plain": [
       "<Figure size 640x480 with 1 Axes>"
      ]
     },
     "metadata": {},
     "output_type": "display_data"
    }
   ],
   "source": [
    "img_sample = draw_samples(map_img, x_T.cpu())\n",
    "plt.imshow(np.array(img_sample))"
   ]
  },
  {
   "cell_type": "code",
   "execution_count": 15,
   "metadata": {},
   "outputs": [
    {
     "data": {
      "text/plain": [
       "<matplotlib.image.AxesImage at 0x7fe5a5c5b2e0>"
      ]
     },
     "execution_count": 15,
     "metadata": {},
     "output_type": "execute_result"
    },
    {
     "data": {
      "image/png": "[encoded data removed]",
      "text/plain": [
       "<Figure size 640x480 with 1 Axes>"
      ]
     },
     "metadata": {},
     "output_type": "display_data"
    }
   ],
   "source": [
    "img_sample = draw_samples(map_img, x.cpu())\n",
    "plt.imshow(np.array(img_sample))"
   ]
  },
  {
   "cell_type": "code",
   "execution_count": 1,
   "metadata": {},
   "outputs": [
    {
     "ename": "NameError",
     "evalue": "name 'args' is not defined",
     "output_type": "error",
     "traceback": [
      "\u001b[0;31m---------------------------------------------------------------------------\u001b[0m",
      "\u001b[0;31mNameError\u001b[0m                                 Traceback (most recent call last)",
      "Cell \u001b[0;32mIn[1], line 1\u001b[0m\n\u001b[0;32m----> 1\u001b[0m eval_batch_size \u001b[38;5;241m=\u001b[39m \u001b[43margs\u001b[49m[\u001b[38;5;124m'\u001b[39m\u001b[38;5;124meval_batch_size\u001b[39m\u001b[38;5;124m'\u001b[39m]\n\u001b[1;32m      2\u001b[0m init_state \u001b[38;5;241m=\u001b[39m args[\u001b[38;5;124m'\u001b[39m\u001b[38;5;124minit_state\u001b[39m\u001b[38;5;124m'\u001b[39m]\n\u001b[1;32m      4\u001b[0m \u001b[38;5;28;01mimport\u001b[39;00m \u001b[38;5;21;01mmatplotlib\u001b[39;00m\u001b[38;5;21;01m.\u001b[39;00m\u001b[38;5;21;01mpyplot\u001b[39;00m \u001b[38;5;28;01mas\u001b[39;00m \u001b[38;5;21;01mplt\u001b[39;00m\n",
      "\u001b[0;31mNameError\u001b[0m: name 'args' is not defined"
     ]
    }
   ],
   "source": [
    "eval_batch_size = args['eval_batch_size']\n",
    "init_state = args['init_state']\n",
    "\n",
    "import matplotlib.pyplot as plt\n",
    "import numpy as np\n",
    "\n",
    "n = 10\n",
    "fig,axs = plt.subplots(1, n, figsize=(15,15))\n",
    "axs = axs.flatten()\n",
    "T = diffusion.noise_steps\n",
    "step_size = int(T / n)\n",
    "\n",
    "\n",
    "x_T = torch.tensor([[-0.5, 0.5]]*10, device=device, dtype=torch.float32)\n",
    "obs_T = prepare_input(args, map_img, goal_pos=x_T, circle_rad=2)\n",
    "\n",
    "x = x_T\n",
    "model.eval()\n",
    "with torch.no_grad():\n",
    "    for i in tqdm(reversed(range(1, noise_steps)), position=0):\n",
    "        if (T-1-i) % step_size == 0:\n",
    "            k = (T-1-i) // step_size\n",
    "            img_sample = draw_samples(map_img, x.cpu())\n",
    "            axs[k].imshow(img_sample)\n",
    "            axs[k].set_title(f't = {T-1-t.item()}')\n",
    "        \n",
    "        t = (torch.ones(1) * i).long().to(device)\n",
    "        predicted_noise = model(obs_T, x, t)\n",
    "        alpha = diffusion.alpha[t]\n",
    "        alpha_hat = diffusion.alpha_hat[t]\n",
    "        beta = diffusion.beta[t]\n",
    "        if i > 1:\n",
    "            noise = torch.randn_like(x)\n",
    "        else:\n",
    "            noise = torch.zeros_like(x)\n",
    "        x = 1 / torch.sqrt(alpha) * (x - ((1 - alpha) / (torch.sqrt(1 - alpha_hat))) \\\n",
    "                    * predicted_noise) + torch.sqrt(beta) * noise"
   ]
  },
  {
   "cell_type": "code",
   "execution_count": null,
   "metadata": {},
   "outputs": [],
   "source": []
  }
 ],
 "metadata": {
  "kernelspec": {
   "display_name": "Python 3 (ipykernel)",
   "language": "python",
   "name": "python3"
  },
  "language_info": {
   "codemirror_mode": {
    "name": "ipython",
    "version": 3
   },
   "file_extension": ".py",
   "mimetype": "text/x-python",
   "name": "python",
   "nbconvert_exporter": "python",
   "pygments_lexer": "ipython3",
   "version": "3.8.10"
  }
 },
 "nbformat": 4,
 "nbformat_minor": 4
}
