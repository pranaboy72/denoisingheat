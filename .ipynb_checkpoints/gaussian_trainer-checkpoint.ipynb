{
 "cells": [
  {
   "cell_type": "code",
   "execution_count": 1,
   "id": "c4d64a70",
   "metadata": {},
   "outputs": [
    {
     "name": "stderr",
     "output_type": "stream",
     "text": [
      "/home/mlcs_edf/mambaforge/envs/diffusion/lib/python3.9/site-packages/tqdm/auto.py:21: TqdmWarning: IProgress not found. Please update jupyter and ipywidgets. See https://ipywidgets.readthedocs.io/en/stable/user_install.html\n",
      "  from .autonotebook import tqdm as notebook_tqdm\n"
     ]
    }
   ],
   "source": [
    "import os\n",
    "from datetime import datetime\n",
    "\n",
    "import math\n",
    "import torch\n",
    "import torch.nn.functional as F\n",
    "from torch.utils.tensorboard import SummaryWriter\n",
    "import numpy as np\n",
    "from tqdm import tqdm\n",
    "from PIL import Image, ImageDraw\n",
    "\n",
    "from scorefield.models.ddpm.denoising_diffusion import Unet\n",
    "from scorefield.models.rrt.rrt import RRTStar\n",
    "from scorefield.models.gaussian.heat_gaussdiffusion import GaussHeatDiffusion\n",
    "from scorefield.utils.rl_utils import load_config\n",
    "from scorefield.utils.utils import (\n",
    "    gen_goals, gen_agents, overlay_goal, overlay_multiple, combine_objects, overlay_images,\n",
    "    overlay_goal_agent, overlay_goals_agent, log_num_check,\n",
    "    draw_obstacles_pil, convert_to_obstacle_masks,\n",
    "    randgen_obstacle_masks, draw_obstacles_pixel,\n",
    "    vector_field, clip_vectors\n",
    ")\n",
    "from scorefield.utils.diffusion_utils import bilinear_interpolate, bilinear_interpolate_samples\n",
    "\n",
    "import matplotlib.pyplot as plt\n",
    "import itertools\n",
    "from typing import Optional\n",
    "import shutil\n",
    "\n",
    "\n",
    "# Args\n",
    "config_dir = \"./scorefield/configs/gaussian.yaml\"\n",
    "args = load_config(config_dir)\n",
    "device = args['device']\n",
    "\n",
    "bg = Image.open('assets/toy_exp/background0.png')\n",
    "wastes = []\n",
    "wastes.append(Image.open('assets/toy_exp/waste0.png'))\n",
    "# wastes.append(Image.open('assets/toy_exp/waste4.png'))\n",
    "# wastes.append(Image.open('assets/toy_exp/waste5.png'))\n",
    "\n",
    "img_size = args['image_size']\n",
    "noise_steps = args['noise_steps']\n",
    "diffuse_t = args['diffuse_t']\n",
    "sample_num = args['sample_num']\n",
    "\n",
    "goal_bounds = args['goal_bounds']\n",
    "agent_bounds = args['agent_bounds']\n",
    "obstacle_pos = args['obstacles']\n",
    "\n",
    "iterations = args['iterations']\n",
    "train_lr = args['train_lr']\n",
    "batch_size = args['batch_size']\n",
    "\n",
    "class Unet2D(Unet):\n",
    "    def __init__(\n",
    "        self, \n",
    "        dim, \n",
    "        out_dim, \n",
    "        dim_mults=(1, 2, 4, 8),\n",
    "    ):\n",
    "        super().__init__(dim=dim, out_dim=out_dim, dim_mults=dim_mults)\n",
    "\n",
    "    def forward(self, obs, t, x_t:Optional[torch.Tensor]=None):\n",
    "        score_map = super().forward(obs, t)\n",
    "        score = bilinear_interpolate_samples(score_map, x_t)    # output: (B,2)\n",
    "        return score\n",
    "\n",
    "    \n",
    "model = Unet2D(\n",
    "    dim=img_size,\n",
    "    out_dim = 2,\n",
    "    dim_mults = (1, 2, 4, 8),\n",
    ").to(device)\n",
    "\n",
    "optim = torch.optim.Adam(params=model.parameters(), lr=train_lr)"
   ]
  },
  {
   "cell_type": "code",
   "execution_count": 2,
   "id": "414eec16",
   "metadata": {},
   "outputs": [
    {
     "name": "stderr",
     "output_type": "stream",
     "text": [
      " 67%|██████▋   | 4049/6000 [2:17:38<1:04:59,  2.00s/it]"
     ]
    }
   ],
   "source": [
    "# Train with random single goal\n",
    "\n",
    "current_time = datetime.now().strftime('%b%d_%H-%M-%S')\n",
    "log_dir = os.path.join('./runs/baselines/gaussian', current_time)\n",
    "writer = SummaryWriter(log_dir)\n",
    "shutil.copy('./scorefield/configs/gaussian.yaml', writer.log_dir)\n",
    "\n",
    "assert batch_size % 2 == 0\n",
    "\n",
    "# background = draw_obstacles_pil(bg, obstacle_pos)\n",
    "# obstacle_masks = convert_to_obstacle_masks(batch_size, background[0].size, img_size, obstacle_pos)\n",
    "\n",
    "for iters in tqdm(range(iterations)):\n",
    "    obstacle_masks = randgen_obstacle_masks(batch_size, img_size)\n",
    "    background = draw_obstacles_pixel(bg, obstacle_masks)\n",
    "    multi_goals = gen_goals(goal_bounds, (2,batch_size//2), img_size, obstacles=obstacle_masks[:batch_size//2])\n",
    "    multi_goal = (torch.rand(batch_size//2, 2, 2, device=device, dtype=torch.float32) * 0.2 - 0.1) * 0.05 + multi_goals\n",
    "    single_goals = gen_goals(goal_bounds, batch_size//2, img_size, obstacles=obstacle_masks[batch_size//2:])\n",
    "    single_goal = (torch.rand(batch_size//2, 1, 2, device=device, dtype=torch.float32) * 0.2 - 0.1) * 0.05 + single_goals\n",
    "    obs1 = overlay_goal(background[:batch_size//2], img_size, wastes, multi_goal)\n",
    "    obs2 = overlay_goal(background[batch_size//2:], img_size, wastes, single_goal)\n",
    "    obs = torch.cat((obs1, obs2), dim=0)\n",
    "    goals = torch.cat((multi_goal[:,0].unsqueeze(1), single_goal), dim=0)\n",
    "    \n",
    "    # goals = gen_goals(goal_bounds, batch_size, img_size, obstacles=obstacle_masks)\n",
    "    goal = (torch.rand(batch_size, 1, 2, device=device, dtype=torch.float32) * 0.2 - 0.1) * 0.1 + goals\n",
    "    \n",
    "    # obs = overlay_goal(background, img_size, wastes, goal)\n",
    "    \n",
    "    optim.zero_grad()\n",
    "    \n",
    "    losses = []\n",
    "    target_scores = []\n",
    "    pred_scores = []\n",
    "    \n",
    "    x0 = goal.clone().repeat_interleave(2, dim=1)\n",
    "    for i in range(1, noise_steps+1):\n",
    "        t = (torch.ones(1)*i).long().to(device)\n",
    "            \n",
    "        while True:\n",
    "            x = x0 + torch.randn(batch_size, 2, 2, device=device, dtype=torch.float32) * math.sqrt(diffuse_t)\n",
    "            if (x[...,:].abs() <=1.).all():\n",
    "                break\n",
    "        \n",
    "        target_score = x0 - x\n",
    "        target_score_normalized = target_score * math.sqrt(diffuse_t)\n",
    "        score = model(obs, t, x)\n",
    "        \n",
    "        squared_diff = torch.sum((score - target_score_normalized)**2, dim=-1)\n",
    "        \n",
    "        losses.append(torch.mean(squared_diff))\n",
    "        target_scores.append(target_score_normalized)\n",
    "        pred_scores.append(score)\n",
    "    \n",
    "        x0 = x.clone()\n",
    "    \n",
    "    loss = sum(losses)/len(losses)\n",
    "    loss.backward()\n",
    "    optim.step()\n",
    "\n",
    "    target_scores = torch.stack(target_scores).reshape(-1,2)\n",
    "    pred_scores = torch.stack(pred_scores).reshape(-1,2)\n",
    "    \n",
    "    target_scores = torch.norm(target_scores.detach(), dim=-1)\n",
    "    pred_scores = torch.norm(pred_scores.detach(), dim=-1)\n",
    "    \n",
    "    dotprod = torch.sum(target_scores.detach() * pred_scores.detach(), dim=-1)\n",
    "    cosine_sim = dotprod / (torch.norm(target_scores.detach(), dim=-1) * torch.norm(pred_scores.detach(), dim=-1)+1e-8)\n",
    "    \n",
    "    writer.add_scalar(\"Loss/train\", loss.item(), iters)\n",
    "    writer.add_scalar(\"Norm/target_score\", torch.mean(target_scores).item(), iters)\n",
    "    writer.add_scalar(\"Norm/pred_score\", torch.mean(pred_scores).item(), iters)\n",
    "    writer.add_scalar(\"Similarity/dot_product\", torch.mean(dotprod).item(), iters)\n",
    "    writer.add_scalar(\"Similarity/cosine_similarity\", torch.mean(cosine_sim).item(), iters)\n",
    "\n",
    "    if iters % (iterations // 3) == 0:\n",
    "        torch.save(model.state_dict(), os.path.join(writer.log_dir, f'model_params_{iters}.pt'))\n",
    "\n",
    "torch.save(model.state_dict(), os.path.join(writer.log_dir, 'model_params.pt'))\n",
    "            \n",
    "writer.close()\n"
   ]
  },
  {
   "cell_type": "code",
   "execution_count": 23,
   "id": "12cca0a9",
   "metadata": {},
   "outputs": [
    {
     "name": "stdout",
     "output_type": "stream",
     "text": [
      "tensor([[-0.6579, -0.1416]], device='cuda:0')\n"
     ]
    },
    {
     "data": {
      "image/png": "[encoded data removed]",
      "text/plain": [
       "<Figure size 640x480 with 1 Axes>"
      ]
     },
     "metadata": {},
     "output_type": "display_data"
    }
   ],
   "source": [
    "k=3\n",
    "plt.imshow(obs[k].permute(1,2,0).cpu().numpy())\n",
    "print(goal[k])\n",
    "plt.show()"
   ]
  }
 ],
 "metadata": {
  "kernelspec": {
   "display_name": "Python 3 (ipykernel)",
   "language": "python",
   "name": "python3"
  },
  "language_info": {
   "codemirror_mode": {
    "name": "ipython",
    "version": 3
   },
   "file_extension": ".py",
   "mimetype": "text/x-python",
   "name": "python",
   "nbconvert_exporter": "python",
   "pygments_lexer": "ipython3",
   "version": "3.9.18"
  }
 },
 "nbformat": 4,
 "nbformat_minor": 5
}
