{
 "cells": [
  {
   "cell_type": "code",
   "execution_count": null,
   "metadata": {},
   "outputs": [],
   "source": [
    "import numpy as np\n",
    "from scipy.stats import entropy, multivariate_normal\n",
    "\n",
    "# 1. Load the npy file\n",
    "data = np.load(\"path_to_file.npy\")\n",
    "\n",
    "# 2. Binning the Data\n",
    "# Create a histogram for 2D data\n",
    "hist, xedges, yedges = np.histogram2d(data[:, 0], data[:, 1], bins=[30, 30])  # Choose the bin size that fits your data best\n",
    "data_distribution = hist.flatten() + 1e-10  # Flatten and add a small constant to avoid zeros\n",
    "\n",
    "# Normalize the data distribution\n",
    "data_distribution /= data_distribution.sum()\n",
    "\n",
    "# Generate a grid over which we evaluate the Gaussians\n",
    "X, Y = np.meshgrid(xedges[:-1], yedges[:-1])\n",
    "pos = np.dstack((X, Y))\n",
    "\n",
    "# 3. Generate the First Reference Distribution\n",
    "goal_mean1 = [-0.7, 0.7]\n",
    "cov_matrix1 = [[0.1**2, 0], [0, 0.1**2]]\n",
    "ref_distribution1 = multivariate_normal.pdf(pos, mean=goal_mean1, cov=cov_matrix1).flatten()\n",
    "ref_distribution1 /= ref_distribution1.sum()\n",
    "\n",
    "# 3b. Generate the Second Reference Distribution\n",
    "goal_mean2 = [0.7, -0.7]\n",
    "cov_matrix2 = [[0.1**2, 0], [0, 0.1**2]]\n",
    "ref_distribution2 = multivariate_normal.pdf(pos, mean=goal_mean2, cov=cov_matrix2).flatten()\n",
    "ref_distribution2 /= ref_distribution2.sum()\n",
    "\n",
    "# 4. Calculate KL Divergence for both reference distributions\n",
    "kl_div1 = entropy(data_distribution, ref_distribution1)\n",
    "kl_div2 = entropy(data_distribution, ref_distribution2)\n",
    "\n",
    "print(\"KL Divergence for Goal 1:\", kl_div1)\n",
    "print(\"KL Divergence for Goal 2:\", kl_div2)"
   ]
  }
 ],
 "metadata": {
  "language_info": {
   "name": "python"
  },
  "orig_nbformat": 4
 },
 "nbformat": 4,
 "nbformat_minor": 2
}
