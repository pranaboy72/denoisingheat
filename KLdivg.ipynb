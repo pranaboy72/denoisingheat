{
 "cells": [
  {
   "cell_type": "code",
   "execution_count": 2,
   "metadata": {},
   "outputs": [],
   "source": [
    "import numpy as np\n",
    "from scipy import stats\n",
    "\n",
    "def compute_gaussian_density(x, mean, std_dev=0.1563):\n",
    "    \"\"\"\n",
    "    Compute the Gaussian density for x given mean and std_dev.\n",
    "    \"\"\"\n",
    "    exponent = -((x[0] - mean[0])**2 + (x[1] - mean[1])**2) / (2 * std_dev**2)\n",
    "    return (1 / (2 * np.pi * std_dev**2)) * np.exp(exponent)\n",
    "\n",
    "def compute_divergence(points, means):\n",
    "    \"\"\"\n",
    "    Compute the KL divergence of empirical distribution against joint target distribution.\n",
    "    \"\"\"\n",
    "    N = len(points)\n",
    "    total_divergence = 0.0\n",
    "    \n",
    "    for x in points:\n",
    "        # Compute the joint density of x under all means (goal distributions)\n",
    "        joint_density = sum(compute_gaussian_density(x, mean) for mean in means)\n",
    "        total_divergence += np.log(1 / (N * joint_density + 1e-10))\n",
    "    \n",
    "    return total_divergence / N\n",
    "\n",
    "def confidence_int(lists):\n",
    "    # Compute the sample mean and standard error of the mean\n",
    "    mean = np.mean(lists)\n",
    "    sem = stats.sem(lists)\n",
    "\n",
    "    # Compute the 95% confidence interval\n",
    "    confidence_level = 0.95\n",
    "    degrees_freedom = len(lists) - 1\n",
    "    lower_bound, upper_bound = stats.t.interval(confidence_level, degrees_freedom, mean, sem)\n",
    "\n",
    "    # Compute the Margin of Error (MOE)\n",
    "    moe = (upper_bound - lower_bound) / 2\n",
    "\n",
    "    print(f\"95% Confidence Interval: {mean:.2f} ± {moe:.5f}\")\n"
   ]
  },
  {
   "cell_type": "code",
   "execution_count": 4,
   "metadata": {},
   "outputs": [
    {
     "name": "stdout",
     "output_type": "stream",
     "text": [
      "[100.0, 100.0, 100.0, 100.0, 100.0, 99.99833333333333, 99.99857142857142]\n"
     ]
    }
   ],
   "source": [
    "s = 0\n",
    "successes = []\n",
    "for s in range(7):\n",
    "    success = np.load(f'./results/heat{s}/unreach_goal/successes.npy')\n",
    "    successes.append((sum(success)/len(success)))\n",
    "print(successes)"
   ]
  },
  {
   "cell_type": "code",
   "execution_count": 11,
   "metadata": {},
   "outputs": [
    {
     "name": "stdout",
     "output_type": "stream",
     "text": [
      "95% Confidence Interval: -6.46 ± 0.00033\n"
     ]
    }
   ],
   "source": [
    "means = [[0.7, -0.7]]\n",
    "divg = []\n",
    "for i in range(100):\n",
    "    states = np.load(f\"./results/heat0/unreach_goal/states_{i}.npy\")\n",
    "    divg.append(compute_divergence(states[0], means))\n",
    "confidence_int(divg)"
   ]
  },
  {
   "cell_type": "code",
   "execution_count": 102,
   "metadata": {},
   "outputs": [
    {
     "data": {
      "text/plain": [
       "12.400685296029453"
      ]
     },
     "execution_count": 102,
     "metadata": {},
     "output_type": "execute_result"
    }
   ],
   "source": [
    "# states1 = np.load(f\"./results/baselines/Gaussian/multi_goal/state_2.npy\")\n",
    "# states2 = np.load(f\"./results/baselines/Gaussian/multi_goal/state_3.npy\")\n",
    "\n",
    "# compute_divergence(states1, means)\n",
    "divg[90]"
   ]
  },
  {
   "cell_type": "code",
   "execution_count": null,
   "metadata": {},
   "outputs": [],
   "source": []
  }
 ],
 "metadata": {
  "kernelspec": {
   "display_name": "Python 3 (ipykernel)",
   "language": "python",
   "name": "python3"
  },
  "language_info": {
   "codemirror_mode": {
    "name": "ipython",
    "version": 3
   },
   "file_extension": ".py",
   "mimetype": "text/x-python",
   "name": "python",
   "nbconvert_exporter": "python",
   "pygments_lexer": "ipython3",
   "version": "3.8.10"
  }
 },
 "nbformat": 4,
 "nbformat_minor": 4
}
