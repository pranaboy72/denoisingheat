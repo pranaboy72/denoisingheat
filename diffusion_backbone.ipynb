{
 "cells": [
  {
   "cell_type": "code",
   "execution_count": null,
   "metadata": {},
   "outputs": [],
   "source": [
    "import os\n",
    "import math\n",
    "\n",
    "import torch\n",
    "import torch.nn.functional as F\n",
    "from tqdm import tqdm\n",
    "\n",
    "from scorefield.models.ddpm.denoising_diffusion import Unet\n",
    "from scorefield.models.ddpm.denoising_diffusion_1d import Unet1D, GaussianDiffusion1D, Dataset1D, Trainer1D\n",
    "from scorefield.models.ddpm.gaussian_diffusion import Diffusion\n",
    "from scorefield.utils.rendering import Maze2dRenderer\n",
    "from scorefield.utils.rl_utils import load_config\n",
    "from scorefield.utils.utils import log_num_check, imshow, gen_goals, random_batch, eval_batch\n",
    "from scorefield.utils.diffusion_utils import bilinear_interpolate\n"
   ]
  },
  {
   "cell_type": "code",
   "execution_count": null,
   "metadata": {},
   "outputs": [],
   "source": [
    "# Args\n",
    "sac_config_dir = \"/home/junwoo/scorefield/scorefield/configs/diffusion.yaml\"\n",
    "args = load_config(sac_config_dir)\n",
    "device = args['device']\n",
    "\n",
    "renderer = Maze2dRenderer(args)\n",
    "env = renderer.env\n",
    "\n",
    "model_path = os.path.join(args['log_path'], args['model_path'])\n",
    "\n",
    "env.reset()\n",
    "map_img = renderer.map_init()"
   ]
  },
  {
   "cell_type": "code",
   "execution_count": null,
   "metadata": {},
   "outputs": [],
   "source": [
    "class Unet2D(Unet):\n",
    "    def __init__(\n",
    "        self, \n",
    "        dim, \n",
    "        out_dim, \n",
    "        dim_mults=(1, 2, 4, 8)\n",
    "    ):\n",
    "        super().__init__(dim=dim, out_dim=out_dim, dim_mults=dim_mults)\n",
    "        \n",
    "    def forward(self, obs, x, t):\n",
    "        score_map = super().forward(obs, t)\n",
    "        score = bilinear_interpolate(score_map, x)    # output: (B,2)\n",
    "        return score\n",
    "\n",
    "img_size = args['image_size']\n",
    "noise_steps = args['noise_steps']\n",
    "train_lr = args['train_lr']\n",
    "    \n",
    "model = Unet2D(\n",
    "    dim=img_size,\n",
    "    out_dim = 2,\n",
    "    dim_mults = (1, 2, 4, 8),\n",
    ").to(device)\n",
    "\n",
    "diffusion = Diffusion(\n",
    "    input_size = (2,), \n",
    "    noise_steps= noise_steps,\n",
    "    device=device,\n",
    ")\n",
    "\n",
    "optim = torch.optim.Adam(params=model.parameters(), lr=train_lr)"
   ]
  },
  {
   "cell_type": "code",
   "execution_count": null,
   "metadata": {},
   "outputs": [],
   "source": [
    "epochs = args['epochs']\n",
    "batch_size = args['batch_size']\n",
    "\n",
    "for iters in range(epochs):\n",
    "    obs, goals = random_batch(renderer, map_img, batch_size)\n",
    "    obs = torch.tensor(obs, dtype=torch.float32).to(device)\n",
    "    goals = torch.tensor(goals).to(device)\n",
    "    t = diffusion.sample_timesteps(batch_size).to(device)\n",
    "    \n",
    "    x_t = diffusion.noise_goal(goals, t).to(device)\n",
    "    target_score = -(x_t - goals)  # It has to be divided by sigma^2, but sigma=1 in this case\n",
    "    predicted_score = model(obs, x_t, t)\n",
    "        \n",
    "    loss = F.mse_loss(predicted_score, target_score)\n",
    "    \n",
    "    optim.zero_grad()\n",
    "    loss.backward()\n",
    "    optim.step()\n",
    "    \n",
    "    if iters % 100 == 0:\n",
    "        print(f\"iter {iters}: {loss.item()}\")\n",
    "    \n",
    "    "
   ]
  },
  {
   "cell_type": "code",
   "execution_count": null,
   "metadata": {},
   "outputs": [],
   "source": [
    "torch.save(model.state_dict(), \"./logs/pretrained/denoising.pt\")"
   ]
  },
  {
   "cell_type": "code",
   "execution_count": null,
   "metadata": {},
   "outputs": [],
   "source": [
    "model = model.eval()\n",
    "\n",
    "eval_batch_size = args['eval_batch_size']\n",
    "init_state = args['init_state']\n",
    "\n",
    "obs = eval_batch(renderer, map_img, init_state, eval_batch_size, device=device)\n",
    "obs = torch.tensor(obs, dtype=torch.float32).to(device)\n",
    "x = torch.tensor(init_state).to(device)\n",
    "\n",
    "dt = 0.01\n",
    "trajectory = [x]\n",
    "\n",
    "for t in tqdm(range(noise_steps)):\n",
    "    with torch.no_grad():\n",
    "        score = model(obs, x, noise_steps-t)\n",
    "    z_t = torch.randn_like(x)   # z_t ~ N(0,I)\n",
    "        \n",
    "    x = x + score * dt / 2. + math.sqrt(dt) * z_t\n",
    "    trajectory.append(x)\n",
    "trajectory = torch.tensor(trajectory)"
   ]
  },
  {
   "cell_type": "code",
   "execution_count": null,
   "metadata": {},
   "outputs": [],
   "source": []
  }
 ],
 "metadata": {
  "kernelspec": {
   "display_name": "scorefield",
   "language": "python",
   "name": "python3"
  },
  "language_info": {
   "codemirror_mode": {
    "name": "ipython",
    "version": 3
   },
   "file_extension": ".py",
   "mimetype": "text/x-python",
   "name": "python",
   "nbconvert_exporter": "python",
   "pygments_lexer": "ipython3",
   "version": "3.8.17"
  },
  "orig_nbformat": 4
 },
 "nbformat": 4,
 "nbformat_minor": 2
}
