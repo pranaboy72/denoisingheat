{
 "cells": [
  {
   "cell_type": "code",
   "execution_count": 4,
   "metadata": {},
   "outputs": [],
   "source": [
    "import os\n",
    "import math\n",
    "\n",
    "import torch\n",
    "import torch.nn.functional as F\n",
    "from tqdm import tqdm\n",
    "from PIL import Image, ImageDraw\n",
    "\n",
    "from scorefield.models.ddpm.denoising_diffusion import Unet\n",
    "from scorefield.models.ddpm.denoising_diffusion_1d import Unet1D, GaussianDiffusion1D, Dataset1D, Trainer1D\n",
    "from scorefield.models.ddpm.gaussian_diffusion import Diffusion\n",
    "# from scorefield.utils.rendering import Maze2dRenderer\n",
    "from scorefield.utils.rl_utils import load_config\n",
    "from scorefield.utils.utils import log_num_check, imshow, gen_goals, random_batch, eval_batch, prepare_input, search_limit\n",
    "from scorefield.utils.diffusion_utils import bilinear_interpolate\n"
   ]
  },
  {
   "cell_type": "code",
   "execution_count": 5,
   "metadata": {},
   "outputs": [],
   "source": [
    "# Args\n",
    "config_dir = \"./scorefield/configs/diffusion.yaml\"\n",
    "args = load_config(config_dir)\n",
    "device = args['device']\n",
    "\n",
    "model_path = os.path.join(args['log_path'], args['model_path'])\n",
    "\n",
    "map_img = Image.open(\"map.png\")"
   ]
  },
  {
   "cell_type": "code",
   "execution_count": 3,
   "metadata": {},
   "outputs": [],
   "source": [
    "class SinusoidalPosEmb(nn.Module):\n",
    "    def __init__(self, dim):\n",
    "        super().__init__()\n",
    "        self.dim = dim\n",
    "\n",
    "    def forward(self, x):\n",
    "        device = x.device\n",
    "        half_dim = self.dim // 2\n",
    "        emb = math.log(10000) / (half_dim - 1)\n",
    "        emb = torch.exp(torch.arange(half_dim, device=device) * -emb)\n",
    "        emb = x[:, None] * emb[None, :]\n",
    "        emb = torch.cat((emb.sin(), emb.cos()), dim=-1)\n",
    "        return emb\n",
    "\n",
    "class Unet2D(Unet):\n",
    "    def __init__(\n",
    "        self, \n",
    "        dim, \n",
    "        out_dim, \n",
    "        dim_mults=(1, 2, 4, 8)\n",
    "    ):\n",
    "        super().__init__(dim=dim, out_dim=out_dim, dim_mults=dim_mults)\n",
    "\n",
    "    def forward(self, obs, x_t, t):\n",
    "        score_map = super().forward(obs, t)\n",
    "        score = bilinear_interpolate(score_map, x_t)    # output: (B,2)\n",
    "        return score\n",
    "\n",
    "img_size = args['image_size']\n",
    "noise_steps = args['noise_steps']\n",
    "train_lr = args['train_lr']\n",
    "beta = args['beta']\n",
    "    \n",
    "model = Unet2D(\n",
    "    dim=img_size,\n",
    "    out_dim = 2,\n",
    "    dim_mults = (1, 2, 4, 8),\n",
    ").to(device)\n",
    "\n",
    "diffusion = Diffusion(\n",
    "    input_size = (2,), \n",
    "    noise_steps= noise_steps,\n",
    "    device=device,\n",
    ")\n",
    "\n",
    "optim = torch.optim.Adam(params=model.parameters(), lr=train_lr)"
   ]
  },
  {
   "cell_type": "code",
   "execution_count": null,
   "metadata": {},
   "outputs": [
    {
     "name": "stdout",
     "output_type": "stream",
     "text": [
      "iter 0: 987869.75\n",
      "iter 100: 79110816.0\n",
      "iter 200: 5173071.0\n",
      "iter 300: 2677835.0\n",
      "iter 400: 4500973.0\n",
      "iter 500: 2762461.25\n",
      "iter 600: 2260131.0\n",
      "iter 700: 2583560.5\n",
      "iter 800: 3016361.5\n",
      "iter 900: 1603401.25\n",
      "iter 1000: 2751329.0\n",
      "iter 1100: 1565580.0\n",
      "iter 1200: 3748703.75\n",
      "iter 1300: 3752191.5\n",
      "iter 1400: 2670843.5\n",
      "iter 1500: 2140690.0\n"
     ]
    }
   ],
   "source": [
    "epochs = args['epochs']\n",
    "batch_size = args['batch_size']\n",
    "\n",
    "for iters in range(epochs):\n",
    "    optim.zero_grad()\n",
    "    \n",
    "    x0 = (torch.rand(batch_size, 2, device=device, dtype=torch.float32)*2 -1.) *0.1\n",
    "    obs = prepare_input(args, map_img, goal_pos=x0, circle_rad=2)\n",
    "    t = diffusion.sample_timesteps(batch_size).to(device)\n",
    "    \n",
    "    x_noisy, noise = diffusion.forward_diffusion(x0, t)\n",
    "    noise_pred = model(obs, x_noisy, t)\n",
    "    loss =  F.l1_loss(noise, noise_pred)\n",
    "    loss.backward()\n",
    "    optim.step()\n",
    "    \n",
    "    if iters % 100 == 0:\n",
    "        print(f\"iter {iters}: {loss.item()}\")\n",
    "    \n",
    "    "
   ]
  },
  {
   "cell_type": "code",
   "execution_count": null,
   "metadata": {},
   "outputs": [],
   "source": [
    "torch.save(model.state_dict(), \"./logs/pretrained/denoising.pt\")"
   ]
  },
  {
   "cell_type": "code",
   "execution_count": 6,
   "metadata": {},
   "outputs": [
    {
     "ename": "KeyError",
     "evalue": "'eval_batch_size'",
     "output_type": "error",
     "traceback": [
      "\u001b[0;31m---------------------------------------------------------------------------\u001b[0m",
      "\u001b[0;31mKeyError\u001b[0m                                  Traceback (most recent call last)",
      "Cell \u001b[0;32mIn[6], line 3\u001b[0m\n\u001b[1;32m      1\u001b[0m model \u001b[39m=\u001b[39m model\u001b[39m.\u001b[39meval()\n\u001b[0;32m----> 3\u001b[0m eval_batch_size \u001b[39m=\u001b[39m args[\u001b[39m'\u001b[39;49m\u001b[39meval_batch_size\u001b[39;49m\u001b[39m'\u001b[39;49m]\n\u001b[1;32m      4\u001b[0m target \u001b[39m=\u001b[39m args[\u001b[39m'\u001b[39m\u001b[39mtarget\u001b[39m\u001b[39m'\u001b[39m]\n\u001b[1;32m      6\u001b[0m obs, goals \u001b[39m=\u001b[39m eval_batch(renderer, map_img, target, eval_batch_size, device\u001b[39m=\u001b[39mdevice)\n",
      "\u001b[0;31mKeyError\u001b[0m: 'eval_batch_size'"
     ]
    }
   ],
   "source": [
    "model = model.eval()\n",
    "\n",
    "eval_batch_size = args['eval_batch_size']\n",
    "init_state = args['init_state']\n",
    "\n",
    "obs = eval_batch(renderer, map_img, init_state, eval_batch_size, device=device)\n",
    "obs = torch.tensor(obs, dtype=torch.float32).to(device)\n",
    "x = torch.tensor(init_state).to(device)\n",
    "\n",
    "dt = 0.01\n",
    "trajectory = [x]\n",
    "\n",
    "for t in tqdm(range(noise_steps)):\n",
    "    with torch.no_grad():\n",
    "        score = model(obs, x, noise_steps-t)\n",
    "    z_t = torch.randn_like(x)\n",
    "        \n",
    "    x = x + score * dt / 2. + math.sqrt(dt) * z_t\n",
    "    trajectory.append(x)\n",
    "trajectory = torch.tensor(trajectory)"
   ]
  },
  {
   "cell_type": "code",
   "execution_count": null,
   "metadata": {},
   "outputs": [],
   "source": []
  }
 ],
 "metadata": {
  "kernelspec": {
   "display_name": "Python 3 (ipykernel)",
   "language": "python",
   "name": "python3"
  },
  "language_info": {
   "codemirror_mode": {
    "name": "ipython",
    "version": 3
   },
   "file_extension": ".py",
   "mimetype": "text/x-python",
   "name": "python",
   "nbconvert_exporter": "python",
   "pygments_lexer": "ipython3",
   "version": "3.8.17"
  }
 },
 "nbformat": 4,
 "nbformat_minor": 4
}
