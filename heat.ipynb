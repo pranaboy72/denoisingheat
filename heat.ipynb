{
 "cells": [
  {
   "cell_type": "code",
   "execution_count": 1,
   "metadata": {},
   "outputs": [],
   "source": [
    "import os\n",
    "import torch\n",
    "import numpy as np\n",
    "import matplotlib.pyplot as plt\n",
    "\n",
    "\n",
    "class HeatDiffusion(object):\n",
    "    def __init__(self, noise_steps=500, init_u=1000, alpha=2., delta=1e-4, N_terms=10, device=\"cuda\"):\n",
    "        self.device = device\n",
    "        self.noise_steps = noise_steps\n",
    "        \n",
    "        self.init_u = init_u\n",
    "        self.alpha = alpha\n",
    "        self.delta = delta\n",
    "        self.N_terms = N_terms\n",
    "        \n",
    "        self.N = int(2. / delta)\n",
    "        \n",
    "        self.vals = np.linspace(0, 2, self.N)\n",
    "        self.X, self.Y = np.meshgrid(self.vals, self.vals)\n",
    "        \n",
    "    def forward_diffusion(self, x0, t):\n",
    "        heat = np.array([[self.compute_u(x, y, t, x0) for x in self.vals] for y in self.vals])\n",
    "        threshold = 0.1 * np.max(heat)\n",
    "        \n",
    "        contour = plt.contour(self.X, self.Y, heat, levels=[threshold])\n",
    "        paths = contour.collections[0].get_paths()\n",
    "        \n",
    "        boundaries = []\n",
    "        for path in paths:\n",
    "            v = path.vertices\n",
    "            boundaries.append(v)\n",
    "            \n",
    "        return boundaries\n",
    "        \n",
    "    \n",
    "    def compute_A(self, n, m, x0):\n",
    "        integral = 0\n",
    "        for i in range(0, self.N):\n",
    "            for j in range(0, self.N):\n",
    "                x = i * self.delta\n",
    "                y = j * self.delta\n",
    "                integral += self.u0(x, y, x0) * np.sin(n * np.pi * x / 2.) * np.sin(m * np.pi * y / 2.) * self.delta**2\n",
    "        return integral  \n",
    "    \n",
    "    def compute_u(self, x, y, t, x0):\n",
    "        \"\"\"\n",
    "            u(x,y,t) = sum_n sum_m A_nm * sin(n*\\pi*x/L_x) * sin(m*\\pi*y/L_y) * \\\n",
    "                exp(-\\alpha * ((n*\\pi/L_x)^2 + (m*\\pi/L_y)^2) * t)\n",
    "        \"\"\"\n",
    "        u = 0\n",
    "        for n in range(1, self.N_terms+1):\n",
    "            for m in range(1, self.N_terms+1):\n",
    "                A_nm = self.compute_A(n, m, x0)\n",
    "                lambda_val = (n * np.pi / 2.)**2 + (m * np.pi / 2.)**2\n",
    "                u += A_nm * np.sin(n * np.pi * x / 2.) * np.sin(m * np.pi * y / 2.) * np.exp(-self.alpha * lambda_val * t)\n",
    "        return u\n",
    "    \n",
    "    def u0(self, x, y, x0):\n",
    "        \"\"\"\n",
    "            u0(x,y) = u0 * direc(x-x0, y-y0)\n",
    "        \"\"\"\n",
    "        print(float(x0[...,0]))\n",
    "        if (float(x0[...,0]) <= x < float(x0[...,0])+self.delta) and (float(x0[...,1]) <= y < float(x0[...,1])+self.delta):\n",
    "            return self.init_u / (self.delta**2)    # normalize\n",
    "        else:\n",
    "            raise \"wrong x0\"\n",
    "        \n",
    "\n",
    "    def sample_timesteps(self, n):\n",
    "        return torch.randint(low=1, high=self.noise_steps, size=(n,)).long()\n"
   ]
  },
  {
   "cell_type": "code",
   "execution_count": 2,
   "metadata": {},
   "outputs": [
    {
     "name": "stdout",
     "output_type": "stream",
     "text": [
      "0.5\n"
     ]
    },
    {
     "ename": "TypeError",
     "evalue": "exceptions must derive from BaseException",
     "output_type": "error",
     "traceback": [
      "\u001b[0;31m---------------------------------------------------------------------------\u001b[0m",
      "\u001b[0;31mTypeError\u001b[0m                                 Traceback (most recent call last)",
      "Cell \u001b[0;32mIn[2], line 4\u001b[0m\n\u001b[1;32m      2\u001b[0m heat \u001b[39m=\u001b[39m HeatDiffusion()\n\u001b[1;32m      3\u001b[0m x0 \u001b[39m=\u001b[39m torch\u001b[39m.\u001b[39mtensor([[[\u001b[39m0.5\u001b[39m, \u001b[39m0.5\u001b[39m]]], dtype\u001b[39m=\u001b[39mtorch\u001b[39m.\u001b[39mfloat, device\u001b[39m=\u001b[39m\u001b[39m'\u001b[39m\u001b[39mcuda\u001b[39m\u001b[39m'\u001b[39m)\n\u001b[0;32m----> 4\u001b[0m heat\u001b[39m.\u001b[39;49mforward_diffusion(x0, \u001b[39m0\u001b[39;49m)\n",
      "Cell \u001b[0;32mIn[1], line 23\u001b[0m, in \u001b[0;36mHeatDiffusion.forward_diffusion\u001b[0;34m(self, x0, t)\u001b[0m\n\u001b[1;32m     22\u001b[0m \u001b[39mdef\u001b[39;00m \u001b[39mforward_diffusion\u001b[39m(\u001b[39mself\u001b[39m, x0, t):\n\u001b[0;32m---> 23\u001b[0m     heat \u001b[39m=\u001b[39m np\u001b[39m.\u001b[39marray([[\u001b[39mself\u001b[39m\u001b[39m.\u001b[39mcompute_u(x, y, t, x0) \u001b[39mfor\u001b[39;00m x \u001b[39min\u001b[39;00m \u001b[39mself\u001b[39m\u001b[39m.\u001b[39mvals] \u001b[39mfor\u001b[39;00m y \u001b[39min\u001b[39;00m \u001b[39mself\u001b[39m\u001b[39m.\u001b[39mvals])\n\u001b[1;32m     24\u001b[0m     threshold \u001b[39m=\u001b[39m \u001b[39m0.1\u001b[39m \u001b[39m*\u001b[39m np\u001b[39m.\u001b[39mmax(heat)\n\u001b[1;32m     26\u001b[0m     contour \u001b[39m=\u001b[39m plt\u001b[39m.\u001b[39mcontour(\u001b[39mself\u001b[39m\u001b[39m.\u001b[39mX, \u001b[39mself\u001b[39m\u001b[39m.\u001b[39mY, heat, levels\u001b[39m=\u001b[39m[threshold])\n",
      "Cell \u001b[0;32mIn[1], line 23\u001b[0m, in \u001b[0;36m<listcomp>\u001b[0;34m(.0)\u001b[0m\n\u001b[1;32m     22\u001b[0m \u001b[39mdef\u001b[39;00m \u001b[39mforward_diffusion\u001b[39m(\u001b[39mself\u001b[39m, x0, t):\n\u001b[0;32m---> 23\u001b[0m     heat \u001b[39m=\u001b[39m np\u001b[39m.\u001b[39marray([[\u001b[39mself\u001b[39m\u001b[39m.\u001b[39mcompute_u(x, y, t, x0) \u001b[39mfor\u001b[39;00m x \u001b[39min\u001b[39;00m \u001b[39mself\u001b[39m\u001b[39m.\u001b[39mvals] \u001b[39mfor\u001b[39;00m y \u001b[39min\u001b[39;00m \u001b[39mself\u001b[39m\u001b[39m.\u001b[39mvals])\n\u001b[1;32m     24\u001b[0m     threshold \u001b[39m=\u001b[39m \u001b[39m0.1\u001b[39m \u001b[39m*\u001b[39m np\u001b[39m.\u001b[39mmax(heat)\n\u001b[1;32m     26\u001b[0m     contour \u001b[39m=\u001b[39m plt\u001b[39m.\u001b[39mcontour(\u001b[39mself\u001b[39m\u001b[39m.\u001b[39mX, \u001b[39mself\u001b[39m\u001b[39m.\u001b[39mY, heat, levels\u001b[39m=\u001b[39m[threshold])\n",
      "Cell \u001b[0;32mIn[1], line 23\u001b[0m, in \u001b[0;36m<listcomp>\u001b[0;34m(.0)\u001b[0m\n\u001b[1;32m     22\u001b[0m \u001b[39mdef\u001b[39;00m \u001b[39mforward_diffusion\u001b[39m(\u001b[39mself\u001b[39m, x0, t):\n\u001b[0;32m---> 23\u001b[0m     heat \u001b[39m=\u001b[39m np\u001b[39m.\u001b[39marray([[\u001b[39mself\u001b[39;49m\u001b[39m.\u001b[39;49mcompute_u(x, y, t, x0) \u001b[39mfor\u001b[39;00m x \u001b[39min\u001b[39;00m \u001b[39mself\u001b[39m\u001b[39m.\u001b[39mvals] \u001b[39mfor\u001b[39;00m y \u001b[39min\u001b[39;00m \u001b[39mself\u001b[39m\u001b[39m.\u001b[39mvals])\n\u001b[1;32m     24\u001b[0m     threshold \u001b[39m=\u001b[39m \u001b[39m0.1\u001b[39m \u001b[39m*\u001b[39m np\u001b[39m.\u001b[39mmax(heat)\n\u001b[1;32m     26\u001b[0m     contour \u001b[39m=\u001b[39m plt\u001b[39m.\u001b[39mcontour(\u001b[39mself\u001b[39m\u001b[39m.\u001b[39mX, \u001b[39mself\u001b[39m\u001b[39m.\u001b[39mY, heat, levels\u001b[39m=\u001b[39m[threshold])\n",
      "Cell \u001b[0;32mIn[1], line 54\u001b[0m, in \u001b[0;36mHeatDiffusion.compute_u\u001b[0;34m(self, x, y, t, x0)\u001b[0m\n\u001b[1;32m     52\u001b[0m \u001b[39mfor\u001b[39;00m n \u001b[39min\u001b[39;00m \u001b[39mrange\u001b[39m(\u001b[39m1\u001b[39m, \u001b[39mself\u001b[39m\u001b[39m.\u001b[39mN_terms\u001b[39m+\u001b[39m\u001b[39m1\u001b[39m):\n\u001b[1;32m     53\u001b[0m     \u001b[39mfor\u001b[39;00m m \u001b[39min\u001b[39;00m \u001b[39mrange\u001b[39m(\u001b[39m1\u001b[39m, \u001b[39mself\u001b[39m\u001b[39m.\u001b[39mN_terms\u001b[39m+\u001b[39m\u001b[39m1\u001b[39m):\n\u001b[0;32m---> 54\u001b[0m         A_nm \u001b[39m=\u001b[39m \u001b[39mself\u001b[39;49m\u001b[39m.\u001b[39;49mcompute_A(n, m, x0)\n\u001b[1;32m     55\u001b[0m         lambda_val \u001b[39m=\u001b[39m (n \u001b[39m*\u001b[39m np\u001b[39m.\u001b[39mpi \u001b[39m/\u001b[39m \u001b[39m2.\u001b[39m)\u001b[39m*\u001b[39m\u001b[39m*\u001b[39m\u001b[39m2\u001b[39m \u001b[39m+\u001b[39m (m \u001b[39m*\u001b[39m np\u001b[39m.\u001b[39mpi \u001b[39m/\u001b[39m \u001b[39m2.\u001b[39m)\u001b[39m*\u001b[39m\u001b[39m*\u001b[39m\u001b[39m2\u001b[39m\n\u001b[1;32m     56\u001b[0m         u \u001b[39m+\u001b[39m\u001b[39m=\u001b[39m A_nm \u001b[39m*\u001b[39m np\u001b[39m.\u001b[39msin(n \u001b[39m*\u001b[39m np\u001b[39m.\u001b[39mpi \u001b[39m*\u001b[39m x \u001b[39m/\u001b[39m \u001b[39m2.\u001b[39m) \u001b[39m*\u001b[39m np\u001b[39m.\u001b[39msin(m \u001b[39m*\u001b[39m np\u001b[39m.\u001b[39mpi \u001b[39m*\u001b[39m y \u001b[39m/\u001b[39m \u001b[39m2.\u001b[39m) \u001b[39m*\u001b[39m np\u001b[39m.\u001b[39mexp(\u001b[39m-\u001b[39m\u001b[39mself\u001b[39m\u001b[39m.\u001b[39malpha \u001b[39m*\u001b[39m lambda_val \u001b[39m*\u001b[39m t)\n",
      "Cell \u001b[0;32mIn[1], line 43\u001b[0m, in \u001b[0;36mHeatDiffusion.compute_A\u001b[0;34m(self, n, m, x0)\u001b[0m\n\u001b[1;32m     41\u001b[0m         x \u001b[39m=\u001b[39m i \u001b[39m*\u001b[39m \u001b[39mself\u001b[39m\u001b[39m.\u001b[39mdelta\n\u001b[1;32m     42\u001b[0m         y \u001b[39m=\u001b[39m j \u001b[39m*\u001b[39m \u001b[39mself\u001b[39m\u001b[39m.\u001b[39mdelta\n\u001b[0;32m---> 43\u001b[0m         integral \u001b[39m+\u001b[39m\u001b[39m=\u001b[39m \u001b[39mself\u001b[39;49m\u001b[39m.\u001b[39;49mu0(x, y, x0) \u001b[39m*\u001b[39m np\u001b[39m.\u001b[39msin(n \u001b[39m*\u001b[39m np\u001b[39m.\u001b[39mpi \u001b[39m*\u001b[39m x \u001b[39m/\u001b[39m \u001b[39m2.\u001b[39m) \u001b[39m*\u001b[39m np\u001b[39m.\u001b[39msin(m \u001b[39m*\u001b[39m np\u001b[39m.\u001b[39mpi \u001b[39m*\u001b[39m y \u001b[39m/\u001b[39m \u001b[39m2.\u001b[39m) \u001b[39m*\u001b[39m \u001b[39mself\u001b[39m\u001b[39m.\u001b[39mdelta\u001b[39m*\u001b[39m\u001b[39m*\u001b[39m\u001b[39m2\u001b[39m\n\u001b[1;32m     44\u001b[0m \u001b[39mreturn\u001b[39;00m integral\n",
      "Cell \u001b[0;32mIn[1], line 67\u001b[0m, in \u001b[0;36mHeatDiffusion.u0\u001b[0;34m(self, x, y, x0)\u001b[0m\n\u001b[1;32m     65\u001b[0m     \u001b[39mreturn\u001b[39;00m \u001b[39mself\u001b[39m\u001b[39m.\u001b[39minit_u \u001b[39m/\u001b[39m (\u001b[39mself\u001b[39m\u001b[39m.\u001b[39mdelta\u001b[39m*\u001b[39m\u001b[39m*\u001b[39m\u001b[39m2\u001b[39m)    \u001b[39m# normalize\u001b[39;00m\n\u001b[1;32m     66\u001b[0m \u001b[39melse\u001b[39;00m:\n\u001b[0;32m---> 67\u001b[0m     \u001b[39mraise\u001b[39;00m \u001b[39m\"\u001b[39m\u001b[39mwrong x0\u001b[39m\u001b[39m\"\u001b[39m\n",
      "\u001b[0;31mTypeError\u001b[0m: exceptions must derive from BaseException"
     ]
    }
   ],
   "source": [
    "import torch\n",
    "heat = HeatDiffusion()\n",
    "x0 = torch.tensor([[[0.5, 0.5]]], dtype=torch.float, device='cuda')\n",
    "heat.forward_diffusion(x0, 0)"
   ]
  },
  {
   "cell_type": "code",
   "execution_count": 6,
   "metadata": {},
   "outputs": [
    {
     "name": "stdout",
     "output_type": "stream",
     "text": [
      "[False]\n"
     ]
    }
   ],
   "source": [
    "import numpy as np\n",
    "print(np.array([1.]) < 1)"
   ]
  }
 ],
 "metadata": {
  "kernelspec": {
   "display_name": "scorefield",
   "language": "python",
   "name": "python3"
  },
  "language_info": {
   "codemirror_mode": {
    "name": "ipython",
    "version": 3
   },
   "file_extension": ".py",
   "mimetype": "text/x-python",
   "name": "python",
   "nbconvert_exporter": "python",
   "pygments_lexer": "ipython3",
   "version": "3.8.17"
  },
  "orig_nbformat": 4
 },
 "nbformat": 4,
 "nbformat_minor": 2
}
