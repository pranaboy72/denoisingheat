{
 "cells": [
  {
   "cell_type": "code",
   "execution_count": 1,
   "metadata": {},
   "outputs": [],
   "source": [
    "import torch\n",
    "import numpy as np\n",
    "import matplotlib.pyplot as plt\n",
    "\n",
    "\n",
    "class HeatDiffusion(object):\n",
    "    def __init__(self, noise_steps=500, init_u=1000, alpha=2., delta=1e-4, N_terms=10, device=\"cuda\"):\n",
    "        self.device = device\n",
    "        self.noise_steps = noise_steps\n",
    "        \n",
    "        self.init_u = init_u\n",
    "        self.alpha = alpha\n",
    "        self.delta = delta\n",
    "        self.N_terms = N_terms\n",
    "        \n",
    "        self.N = int(2. / delta)\n",
    "        \n",
    "        self.vals = torch.linspace(0, 2, self.N, device=self.device)\n",
    "        self.X, self.Y = torch.meshgrid([self.vals, self.vals])\n",
    "        \n",
    "    def forward_diffusion(self, x0, t):\n",
    "        heat = torch.stack([self.compute_u(x, y, t, x0) for x in self.vals for y in self.vals]).reshape(self.N, self.N, -1).mean(dim=-1)\n",
    "        threshold = 0.1 * heat.max()\n",
    "        \n",
    "        contour = plt.contour(self.X.cpu().numpy(), self.Y.cpu().numpy(), heat.cpu().numpy(), levels=[threshold])\n",
    "        paths = contour.collections[0].get_paths()\n",
    "        \n",
    "        boundaries = []\n",
    "        for path in paths:\n",
    "            v = path.vertices\n",
    "            boundaries.append(v)\n",
    "            \n",
    "        return boundaries\n",
    "\n",
    "    def compute_A(self, n, m, x0):\n",
    "        result = self.u0(self.X.unsqueeze(-1), self.Y.unsqueeze(-1), x0) * torch.sin(n * np.pi * self.X.unsqueeze(-1) / 2.) * torch.sin(m * np.pi * self.Y.unsqueeze(-1) / 2.) * self.delta**2\n",
    "        integral = result.sum(dim=(0,1))\n",
    "        return integral  \n",
    "    \n",
    "    def compute_u(self, x, y, t, x0):\n",
    "        u = torch.zeros(x0.shape[0], device=self.device)\n",
    "        for n in range(1, self.N_terms+1):\n",
    "            for m in range(1, self.N_terms+1):\n",
    "                A_nm = self.compute_A(n, m, x0)\n",
    "                lambda_val = (n * np.pi / 2.)**2 + (m * np.pi / 2.)**2\n",
    "                u += A_nm * torch.sin(n * np.pi * x / 2.) * torch.sin(m * np.pi * y / 2.) * torch.exp(-self.alpha * lambda_val * t)\n",
    "        return u\n",
    "    \n",
    "    def u0(self, x, y, x0):\n",
    "        x0_x, x0_y = x0[..., 0], x0[..., 1]\n",
    "        mask = (x0_x <= x) & (x < x0_x+self.delta) & (x0_y <= y) & (y < x0_y+self.delta)\n",
    "        return torch.where(mask, self.init_u / (self.delta**2), torch.tensor(0., device=self.device))\n",
    "        \n",
    "    def sample_timesteps(self, n):\n",
    "        return torch.randint(1, self.noise_steps, (n,), device=self.device)\n",
    "\n"
   ]
  },
  {
   "cell_type": "code",
   "execution_count": 2,
   "metadata": {},
   "outputs": [
    {
     "name": "stderr",
     "output_type": "stream",
     "text": [
      "/home/junwoo/anaconda3/envs/scorefield/lib/python3.8/site-packages/torch/functional.py:504: UserWarning: torch.meshgrid: in an upcoming release, it will be required to pass the indexing argument. (Triggered internally at ../aten/src/ATen/native/TensorShape.cpp:3483.)\n",
      "  return _VF.meshgrid(tensors, **kwargs)  # type: ignore[attr-defined]\n"
     ]
    },
    {
     "ename": "OutOfMemoryError",
     "evalue": "CUDA out of memory. Tried to allocate 1.49 GiB (GPU 0; 3.81 GiB total capacity; 2.98 GiB already allocated; 115.44 MiB free; 2.98 GiB reserved in total by PyTorch) If reserved memory is >> allocated memory try setting max_split_size_mb to avoid fragmentation.  See documentation for Memory Management and PYTORCH_CUDA_ALLOC_CONF",
     "output_type": "error",
     "traceback": [
      "\u001b[0;31m---------------------------------------------------------------------------\u001b[0m",
      "\u001b[0;31mOutOfMemoryError\u001b[0m                          Traceback (most recent call last)",
      "Cell \u001b[0;32mIn[2], line 3\u001b[0m\n\u001b[1;32m      1\u001b[0m heat \u001b[39m=\u001b[39m HeatDiffusion()\n\u001b[1;32m      2\u001b[0m x0 \u001b[39m=\u001b[39m torch\u001b[39m.\u001b[39mtensor([[[\u001b[39m0.5\u001b[39m, \u001b[39m0.5\u001b[39m]]], dtype\u001b[39m=\u001b[39mtorch\u001b[39m.\u001b[39mfloat, device\u001b[39m=\u001b[39m\u001b[39m'\u001b[39m\u001b[39mcuda\u001b[39m\u001b[39m'\u001b[39m)\n\u001b[0;32m----> 3\u001b[0m posterior \u001b[39m=\u001b[39m heat\u001b[39m.\u001b[39;49mforward_diffusion(x0, \u001b[39m10\u001b[39;49m)\n",
      "Cell \u001b[0;32mIn[1], line 22\u001b[0m, in \u001b[0;36mHeatDiffusion.forward_diffusion\u001b[0;34m(self, x0, t)\u001b[0m\n\u001b[1;32m     21\u001b[0m \u001b[39mdef\u001b[39;00m \u001b[39mforward_diffusion\u001b[39m(\u001b[39mself\u001b[39m, x0, t):\n\u001b[0;32m---> 22\u001b[0m     heat \u001b[39m=\u001b[39m torch\u001b[39m.\u001b[39mstack([\u001b[39mself\u001b[39m\u001b[39m.\u001b[39mcompute_u(x, y, t, x0) \u001b[39mfor\u001b[39;00m x \u001b[39min\u001b[39;00m \u001b[39mself\u001b[39m\u001b[39m.\u001b[39mvals \u001b[39mfor\u001b[39;00m y \u001b[39min\u001b[39;00m \u001b[39mself\u001b[39m\u001b[39m.\u001b[39mvals])\u001b[39m.\u001b[39mreshape(\u001b[39mself\u001b[39m\u001b[39m.\u001b[39mN, \u001b[39mself\u001b[39m\u001b[39m.\u001b[39mN, \u001b[39m-\u001b[39m\u001b[39m1\u001b[39m)\u001b[39m.\u001b[39mmean(dim\u001b[39m=\u001b[39m\u001b[39m-\u001b[39m\u001b[39m1\u001b[39m)\n\u001b[1;32m     23\u001b[0m     threshold \u001b[39m=\u001b[39m \u001b[39m0.1\u001b[39m \u001b[39m*\u001b[39m heat\u001b[39m.\u001b[39mmax()\n\u001b[1;32m     25\u001b[0m     contour \u001b[39m=\u001b[39m plt\u001b[39m.\u001b[39mcontour(\u001b[39mself\u001b[39m\u001b[39m.\u001b[39mX\u001b[39m.\u001b[39mcpu()\u001b[39m.\u001b[39mnumpy(), \u001b[39mself\u001b[39m\u001b[39m.\u001b[39mY\u001b[39m.\u001b[39mcpu()\u001b[39m.\u001b[39mnumpy(), heat\u001b[39m.\u001b[39mcpu()\u001b[39m.\u001b[39mnumpy(), levels\u001b[39m=\u001b[39m[threshold])\n",
      "Cell \u001b[0;32mIn[1], line 22\u001b[0m, in \u001b[0;36m<listcomp>\u001b[0;34m(.0)\u001b[0m\n\u001b[1;32m     21\u001b[0m \u001b[39mdef\u001b[39;00m \u001b[39mforward_diffusion\u001b[39m(\u001b[39mself\u001b[39m, x0, t):\n\u001b[0;32m---> 22\u001b[0m     heat \u001b[39m=\u001b[39m torch\u001b[39m.\u001b[39mstack([\u001b[39mself\u001b[39;49m\u001b[39m.\u001b[39;49mcompute_u(x, y, t, x0) \u001b[39mfor\u001b[39;00m x \u001b[39min\u001b[39;00m \u001b[39mself\u001b[39m\u001b[39m.\u001b[39mvals \u001b[39mfor\u001b[39;00m y \u001b[39min\u001b[39;00m \u001b[39mself\u001b[39m\u001b[39m.\u001b[39mvals])\u001b[39m.\u001b[39mreshape(\u001b[39mself\u001b[39m\u001b[39m.\u001b[39mN, \u001b[39mself\u001b[39m\u001b[39m.\u001b[39mN, \u001b[39m-\u001b[39m\u001b[39m1\u001b[39m)\u001b[39m.\u001b[39mmean(dim\u001b[39m=\u001b[39m\u001b[39m-\u001b[39m\u001b[39m1\u001b[39m)\n\u001b[1;32m     23\u001b[0m     threshold \u001b[39m=\u001b[39m \u001b[39m0.1\u001b[39m \u001b[39m*\u001b[39m heat\u001b[39m.\u001b[39mmax()\n\u001b[1;32m     25\u001b[0m     contour \u001b[39m=\u001b[39m plt\u001b[39m.\u001b[39mcontour(\u001b[39mself\u001b[39m\u001b[39m.\u001b[39mX\u001b[39m.\u001b[39mcpu()\u001b[39m.\u001b[39mnumpy(), \u001b[39mself\u001b[39m\u001b[39m.\u001b[39mY\u001b[39m.\u001b[39mcpu()\u001b[39m.\u001b[39mnumpy(), heat\u001b[39m.\u001b[39mcpu()\u001b[39m.\u001b[39mnumpy(), levels\u001b[39m=\u001b[39m[threshold])\n",
      "Cell \u001b[0;32mIn[1], line 44\u001b[0m, in \u001b[0;36mHeatDiffusion.compute_u\u001b[0;34m(self, x, y, t, x0)\u001b[0m\n\u001b[1;32m     42\u001b[0m \u001b[39mfor\u001b[39;00m n \u001b[39min\u001b[39;00m \u001b[39mrange\u001b[39m(\u001b[39m1\u001b[39m, \u001b[39mself\u001b[39m\u001b[39m.\u001b[39mN_terms\u001b[39m+\u001b[39m\u001b[39m1\u001b[39m):\n\u001b[1;32m     43\u001b[0m     \u001b[39mfor\u001b[39;00m m \u001b[39min\u001b[39;00m \u001b[39mrange\u001b[39m(\u001b[39m1\u001b[39m, \u001b[39mself\u001b[39m\u001b[39m.\u001b[39mN_terms\u001b[39m+\u001b[39m\u001b[39m1\u001b[39m):\n\u001b[0;32m---> 44\u001b[0m         A_nm \u001b[39m=\u001b[39m \u001b[39mself\u001b[39;49m\u001b[39m.\u001b[39;49mcompute_A(n, m, x0)\n\u001b[1;32m     45\u001b[0m         lambda_val \u001b[39m=\u001b[39m (n \u001b[39m*\u001b[39m np\u001b[39m.\u001b[39mpi \u001b[39m/\u001b[39m \u001b[39m2.\u001b[39m)\u001b[39m*\u001b[39m\u001b[39m*\u001b[39m\u001b[39m2\u001b[39m \u001b[39m+\u001b[39m (m \u001b[39m*\u001b[39m np\u001b[39m.\u001b[39mpi \u001b[39m/\u001b[39m \u001b[39m2.\u001b[39m)\u001b[39m*\u001b[39m\u001b[39m*\u001b[39m\u001b[39m2\u001b[39m\n\u001b[1;32m     46\u001b[0m         u \u001b[39m+\u001b[39m\u001b[39m=\u001b[39m A_nm \u001b[39m*\u001b[39m torch\u001b[39m.\u001b[39msin(n \u001b[39m*\u001b[39m np\u001b[39m.\u001b[39mpi \u001b[39m*\u001b[39m x \u001b[39m/\u001b[39m \u001b[39m2.\u001b[39m) \u001b[39m*\u001b[39m torch\u001b[39m.\u001b[39msin(m \u001b[39m*\u001b[39m np\u001b[39m.\u001b[39mpi \u001b[39m*\u001b[39m y \u001b[39m/\u001b[39m \u001b[39m2.\u001b[39m) \u001b[39m*\u001b[39m torch\u001b[39m.\u001b[39mexp(\u001b[39m-\u001b[39m\u001b[39mself\u001b[39m\u001b[39m.\u001b[39malpha \u001b[39m*\u001b[39m lambda_val \u001b[39m*\u001b[39m t)\n",
      "Cell \u001b[0;32mIn[1], line 36\u001b[0m, in \u001b[0;36mHeatDiffusion.compute_A\u001b[0;34m(self, n, m, x0)\u001b[0m\n\u001b[1;32m     35\u001b[0m \u001b[39mdef\u001b[39;00m \u001b[39mcompute_A\u001b[39m(\u001b[39mself\u001b[39m, n, m, x0):\n\u001b[0;32m---> 36\u001b[0m     result \u001b[39m=\u001b[39m \u001b[39mself\u001b[39m\u001b[39m.\u001b[39mu0(\u001b[39mself\u001b[39m\u001b[39m.\u001b[39mX\u001b[39m.\u001b[39munsqueeze(\u001b[39m-\u001b[39m\u001b[39m1\u001b[39m), \u001b[39mself\u001b[39m\u001b[39m.\u001b[39mY\u001b[39m.\u001b[39munsqueeze(\u001b[39m-\u001b[39m\u001b[39m1\u001b[39m), x0) \u001b[39m*\u001b[39m torch\u001b[39m.\u001b[39msin(n \u001b[39m*\u001b[39;49m np\u001b[39m.\u001b[39;49mpi \u001b[39m*\u001b[39;49m \u001b[39mself\u001b[39;49m\u001b[39m.\u001b[39;49mX\u001b[39m.\u001b[39;49munsqueeze(\u001b[39m-\u001b[39;49m\u001b[39m1\u001b[39;49m) \u001b[39m/\u001b[39;49m \u001b[39m2.\u001b[39;49m) \u001b[39m*\u001b[39m torch\u001b[39m.\u001b[39msin(m \u001b[39m*\u001b[39m np\u001b[39m.\u001b[39mpi \u001b[39m*\u001b[39m \u001b[39mself\u001b[39m\u001b[39m.\u001b[39mY\u001b[39m.\u001b[39munsqueeze(\u001b[39m-\u001b[39m\u001b[39m1\u001b[39m) \u001b[39m/\u001b[39m \u001b[39m2.\u001b[39m) \u001b[39m*\u001b[39m \u001b[39mself\u001b[39m\u001b[39m.\u001b[39mdelta\u001b[39m*\u001b[39m\u001b[39m*\u001b[39m\u001b[39m2\u001b[39m\n\u001b[1;32m     37\u001b[0m     integral \u001b[39m=\u001b[39m result\u001b[39m.\u001b[39msum(dim\u001b[39m=\u001b[39m(\u001b[39m0\u001b[39m,\u001b[39m1\u001b[39m))\n\u001b[1;32m     38\u001b[0m     \u001b[39mreturn\u001b[39;00m integral\n",
      "\u001b[0;31mOutOfMemoryError\u001b[0m: CUDA out of memory. Tried to allocate 1.49 GiB (GPU 0; 3.81 GiB total capacity; 2.98 GiB already allocated; 115.44 MiB free; 2.98 GiB reserved in total by PyTorch) If reserved memory is >> allocated memory try setting max_split_size_mb to avoid fragmentation.  See documentation for Memory Management and PYTORCH_CUDA_ALLOC_CONF"
     ]
    }
   ],
   "source": [
    "heat = HeatDiffusion()\n",
    "x0 = torch.tensor([[[0.5, 0.5]]], dtype=torch.float, device='cuda')\n",
    "posterior = heat.forward_diffusion(x0, 10)"
   ]
  },
  {
   "cell_type": "code",
   "execution_count": null,
   "metadata": {},
   "outputs": [
    {
     "name": "stdout",
     "output_type": "stream",
     "text": [
      "[False]\n"
     ]
    }
   ],
   "source": [
    "import numpy as np\n",
    "print(np.array([1.]) < 1)"
   ]
  }
 ],
 "metadata": {
  "kernelspec": {
   "display_name": "scorefield",
   "language": "python",
   "name": "python3"
  },
  "language_info": {
   "codemirror_mode": {
    "name": "ipython",
    "version": 3
   },
   "file_extension": ".py",
   "mimetype": "text/x-python",
   "name": "python",
   "nbconvert_exporter": "python",
   "pygments_lexer": "ipython3",
   "version": "3.8.17"
  },
  "orig_nbformat": 4
 },
 "nbformat": 4,
 "nbformat_minor": 2
}
