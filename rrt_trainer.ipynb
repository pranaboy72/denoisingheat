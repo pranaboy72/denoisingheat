{
 "cells": [
  {
   "cell_type": "code",
   "execution_count": 1,
   "id": "c4d64a70",
   "metadata": {},
   "outputs": [
    {
     "name": "stderr",
     "output_type": "stream",
     "text": [
      "/home/mlcs_edf/mambaforge/envs/diffusion/lib/python3.9/site-packages/tqdm/auto.py:21: TqdmWarning: IProgress not found. Please update jupyter and ipywidgets. See https://ipywidgets.readthedocs.io/en/stable/user_install.html\n",
      "  from .autonotebook import tqdm as notebook_tqdm\n"
     ]
    }
   ],
   "source": [
    "import os\n",
    "from datetime import datetime\n",
    "\n",
    "import torch\n",
    "import torch.nn.functional as F\n",
    "from torch.utils.tensorboard import SummaryWriter\n",
    "import numpy as np\n",
    "from tqdm import tqdm\n",
    "from PIL import Image, ImageDraw\n",
    "\n",
    "from scorefield.models.ddpm.denoising_diffusion import Unet\n",
    "from scorefield.models.rrt.rrt import RRTStar\n",
    "from scorefield.utils.rl_utils import load_config\n",
    "from scorefield.utils.utils import (\n",
    "    gen_goals, gen_agents, overlay_goal, overlay_multiple, combine_objects, overlay_images,\n",
    "    overlay_goal_agent, overlay_goals_agent, log_num_check,\n",
    "    draw_obstacles_pil, convert_to_obstacle_masks,\n",
    "    randgen_obstacle_masks, draw_obstacles_pixel,\n",
    "    vector_field, clip_vectors\n",
    ")\n",
    "from scorefield.utils.diffusion_utils import bilinear_interpolate, bilinear_interpolate_samples\n",
    "\n",
    "import matplotlib.pyplot as plt\n",
    "import itertools\n",
    "from typing import Optional\n",
    "import shutil\n",
    "\n",
    "\n",
    "# Args\n",
    "config_dir = \"./scorefield/configs/rrt.yaml\"\n",
    "args = load_config(config_dir)\n",
    "device = args['device']\n",
    "\n",
    "bg = Image.open('assets/toy_exp/background0.png')\n",
    "wastes = []\n",
    "wastes.append(Image.open('assets/toy_exp/waste0.png'))\n",
    "# wastes.append(Image.open('assets/toy_exp/waste4.png'))\n",
    "# wastes.append(Image.open('assets/toy_exp/waste5.png'))\n",
    "\n",
    "img_size = args['image_size']\n",
    "delta_dist = args['delta_dist']\n",
    "radius = args['radius']\n",
    "time_steps = args['time_steps']\n",
    "max_iters = args['max_iters']\n",
    "sample_num = args['sample_num']\n",
    "\n",
    "goal_bounds = args['goal_bounds']\n",
    "agent_bounds = args['agent_bounds']\n",
    "obstacle_pos = args['obstacles']\n",
    "\n",
    "iterations = args['iterations']\n",
    "train_lr = args['train_lr']\n",
    "batch_size = args['batch_size']\n",
    "\n",
    "class Unet2D(Unet):\n",
    "    def __init__(\n",
    "        self, \n",
    "        dim, \n",
    "        out_dim, \n",
    "        dim_mults=(1, 2, 4, 8),\n",
    "    ):\n",
    "        super().__init__(dim=dim, out_dim=out_dim, dim_mults=dim_mults)\n",
    "\n",
    "    def forward(self, obs, t, x_t:Optional[torch.Tensor]=None):\n",
    "        score_map = super().forward(obs, t)\n",
    "        score = bilinear_interpolate_samples(score_map, x_t)    # output: (B,2)\n",
    "        return score\n",
    "\n",
    "    \n",
    "model = Unet2D(\n",
    "    dim=img_size,\n",
    "    out_dim = 2,\n",
    "    dim_mults = (1, 2, 4, 8),\n",
    ").to(device)\n",
    "\n",
    "rrt = RRTStar(\n",
    "    image_size=img_size,\n",
    "    time_steps=time_steps,\n",
    "    delta_dist=delta_dist,\n",
    "    radius=radius,\n",
    ")\n",
    "\n",
    "optim = torch.optim.Adam(params=model.parameters(), lr=train_lr)"
   ]
  },
  {
   "cell_type": "code",
   "execution_count": 3,
   "id": "414eec16",
   "metadata": {},
   "outputs": [
    {
     "name": "stderr",
     "output_type": "stream",
     "text": [
      "  0%|          | 0/8000 [00:09<?, ?it/s]"
     ]
    },
    {
     "name": "stdout",
     "output_type": "stream",
     "text": [
      "tensor(0.1441, device='cuda:0', dtype=torch.float64, grad_fn=<MeanBackward0>)\n"
     ]
    },
    {
     "name": "stderr",
     "output_type": "stream",
     "text": [
      "\n"
     ]
    },
    {
     "ename": "RuntimeError",
     "evalue": "No active exception to reraise",
     "output_type": "error",
     "traceback": [
      "\u001b[0;31m---------------------------------------------------------------------------\u001b[0m",
      "\u001b[0;31mRuntimeError\u001b[0m                              Traceback (most recent call last)",
      "\u001b[1;32m/home/mlcs_edf/Desktop/diffusion/diffusionBC/rrt_trainer.ipynb Cell 2\u001b[0m line \u001b[0;36m4\n\u001b[1;32m     <a href='vscode-notebook-cell:/home/mlcs_edf/Desktop/diffusion/diffusionBC/rrt_trainer.ipynb#W1sZmlsZQ%3D%3D?line=40'>41</a>\u001b[0m squared_diff \u001b[39m=\u001b[39m torch\u001b[39m.\u001b[39msum((pred_delta \u001b[39m-\u001b[39m deltas)\u001b[39m*\u001b[39m\u001b[39m*\u001b[39m\u001b[39m2\u001b[39m, dim\u001b[39m=\u001b[39m\u001b[39m-\u001b[39m\u001b[39m1\u001b[39m)\n\u001b[1;32m     <a href='vscode-notebook-cell:/home/mlcs_edf/Desktop/diffusion/diffusionBC/rrt_trainer.ipynb#W1sZmlsZQ%3D%3D?line=41'>42</a>\u001b[0m \u001b[39mprint\u001b[39m(torch\u001b[39m.\u001b[39mmean(squared_diff))\n\u001b[0;32m---> <a href='vscode-notebook-cell:/home/mlcs_edf/Desktop/diffusion/diffusionBC/rrt_trainer.ipynb#W1sZmlsZQ%3D%3D?line=42'>43</a>\u001b[0m \u001b[39mraise\u001b[39;00m\n\u001b[1;32m     <a href='vscode-notebook-cell:/home/mlcs_edf/Desktop/diffusion/diffusionBC/rrt_trainer.ipynb#W1sZmlsZQ%3D%3D?line=43'>44</a>\u001b[0m losses\u001b[39m.\u001b[39mappend(torch\u001b[39m.\u001b[39mmean(squared_diff))\n\u001b[1;32m     <a href='vscode-notebook-cell:/home/mlcs_edf/Desktop/diffusion/diffusionBC/rrt_trainer.ipynb#W1sZmlsZQ%3D%3D?line=44'>45</a>\u001b[0m \u001b[39m# pred_deltas.append(pred_delta.reshape(-1,2))\u001b[39;00m\n\u001b[1;32m     <a href='vscode-notebook-cell:/home/mlcs_edf/Desktop/diffusion/diffusionBC/rrt_trainer.ipynb#W1sZmlsZQ%3D%3D?line=45'>46</a>\u001b[0m \u001b[39m# deltas.append(delta[:,:,0].reshape(-1,2))\u001b[39;00m\n",
      "\u001b[0;31mRuntimeError\u001b[0m: No active exception to reraise"
     ]
    }
   ],
   "source": [
    "# Train with random single goal\n",
    "\n",
    "current_time = datetime.now().strftime('%b%d_%H-%M-%S')\n",
    "log_dir = os.path.join('./runs/baselines/', current_time)\n",
    "writer = SummaryWriter(log_dir)\n",
    "shutil.copy('./scorefield/configs/rrt.yaml', writer.log_dir)\n",
    "\n",
    "assert batch_size % 2 == 0\n",
    "\n",
    "# background = draw_obstacles_pil(bg, obstacle_pos)\n",
    "# obstacle_masks = convert_to_obstacle_masks(batch_size, background[0].size, img_size, obstacle_pos)\n",
    "\n",
    "for iters in tqdm(range(iterations)):\n",
    "    obstacle_masks = randgen_obstacle_masks(batch_size, img_size)\n",
    "    background = draw_obstacles_pixel(bg, obstacle_masks)\n",
    "    multi_goals = gen_goals(goal_bounds, (2,batch_size//2), img_size, obstacles=obstacle_masks[:len(obstacle_masks)//2])\n",
    "    multi_goal = (torch.rand(batch_size//2, 2, 2, device=device, dtype=torch.float32) * 0.2 - 0.1) * 0.1 + multi_goals\n",
    "    single_goals = gen_goals(goal_bounds, batch_size//2, img_size, obstacles=obstacle_masks[len(obstacle_masks)//2:])\n",
    "    single_goal = (torch.rand(batch_size//2, 1, 2, device=device, dtype=torch.float32) * 0.2 - 0.1) * 0.1 + single_goals\n",
    "    \n",
    "    obs1 = overlay_goal(background, img_size, wastes, single_goal)\n",
    "    obs2 = overlay_goal(background, img_size, wastes, multi_goal)\n",
    "    obs = torch.cat((obs1, obs2), dim=0)\n",
    "    goal = torch.cat((multi_goal[:,0].unsqueeze(1), single_goal), dim=0)\n",
    "    \n",
    "    optim.zero_grad()\n",
    "    \n",
    "    losses = []\n",
    "    pred_deltas = []\n",
    "    \n",
    "    t = torch.ones(1).long().to(device)\n",
    "    \n",
    "    with torch.no_grad():\n",
    "        initials = gen_agents(goal_bounds, (sample_num*time_steps, batch_size), img_size, obstacles=obstacle_masks)\n",
    "        _, delta = rrt.plan(starts=initials, goals=goal, obstacle_masks=obstacle_masks)\n",
    "\n",
    "    deltas = torch.tensor([[sample[0] for sample in delt] for delt in delta]).to(device)\n",
    "\n",
    "    pred_delta = model(obs, t, initials)\n",
    "    \n",
    "    squared_diff = torch.sum((pred_delta - deltas)**2, dim=-1)\n",
    "    losses.append(torch.mean(squared_diff))\n",
    "        \n",
    "    loss = sum(losses)/len(losses)\n",
    "    loss.backward()\n",
    "    optim.step()\n",
    "\n",
    "    deltas = deltas.reshape(-1,2)\n",
    "    pred_deltas = pred_delta.reshape(-1,2)\n",
    "    \n",
    "    deltas_norm = torch.norm(deltas.detach(), dim=-1)\n",
    "    pred_deltas_norm = torch.norm(pred_deltas.detach(), dim=-1)\n",
    "    \n",
    "    dotprod = torch.sum(deltas.detach() * pred_deltas.detach(), dim=-1)\n",
    "    cosine_sim = dotprod / (torch.norm(deltas.detach(), dim=-1) * torch.norm(pred_deltas.detach(), dim=-1)+1e-8)\n",
    "    \n",
    "    writer.add_scalar(\"Loss/train\", loss.item(), iters)\n",
    "    writer.add_scalar(\"Norm/target_score\", torch.mean(deltas_norm).item(), iters)\n",
    "    writer.add_scalar(\"Norm/pred_score\", torch.mean(pred_deltas_norm).item(), iters)\n",
    "    writer.add_scalar(\"Similarity/dot_product\", torch.mean(dotprod).item(), iters)\n",
    "    writer.add_scalar(\"Similarity/cosine_similarity\", torch.mean(cosine_sim).item(), iters)\n",
    "\n",
    "    if iters == iterations // 2:\n",
    "        torch.save(model.state_dict(), os.path.join(writer.log_dir, 'model_params_half.pt'))\n",
    "\n",
    "torch.save(model.state_dict(), os.path.join(writer.log_dir, 'model_params.pt'))\n",
    "            \n",
    "writer.close()\n"
   ]
  },
  {
   "cell_type": "code",
   "execution_count": 23,
   "id": "9ef9f003",
   "metadata": {},
   "outputs": [
    {
     "data": {
      "text/plain": [
       "torch.Size([4, 2])"
      ]
     },
     "execution_count": 23,
     "metadata": {},
     "output_type": "execute_result"
    }
   ],
   "source": [
    "torch.tensor(delta[0][19]).shape"
   ]
  }
 ],
 "metadata": {
  "kernelspec": {
   "display_name": "Python 3 (ipykernel)",
   "language": "python",
   "name": "python3"
  },
  "language_info": {
   "codemirror_mode": {
    "name": "ipython",
    "version": 3
   },
   "file_extension": ".py",
   "mimetype": "text/x-python",
   "name": "python",
   "nbconvert_exporter": "python",
   "pygments_lexer": "ipython3",
   "version": "3.9.18"
  }
 },
 "nbformat": 4,
 "nbformat_minor": 5
}
