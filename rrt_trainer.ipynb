{
 "cells": [
  {
   "cell_type": "code",
   "execution_count": null,
   "id": "b18fe7f9",
   "metadata": {},
   "outputs": [],
   "source": [
    "import os\n",
    "import math\n",
    "\n",
    "import torch\n",
    "import torch.nn.functional as F\n",
    "from torch.utils.tensorboard import SummaryWriter\n",
    "import numpy as np\n",
    "from tqdm import tqdm\n",
    "from PIL import Image, ImageDraw\n",
    "\n",
    "from scorefield.models.ddpm.denoising_diffusion import Unet\n",
    "from scorefield.models.rrt.rrt import RRTStar\n",
    "from scorefield.utils.rl_utils import load_config\n",
    "from scorefield.utils.utils import (\n",
    "    gen_goals, overlay_goal, overlay_multiple, combine_objects, overlay_images,\n",
    "    overlay_goal_agent, overlay_goals_agent, log_num_check,\n",
    "    draw_obstacles_pil, convert_to_obstacle_masks,\n",
    "    randgen_obstacle_masks, draw_obstacles_pixel,\n",
    "    vector_field, clip_vectors\n",
    ")\n",
    "\n",
    "import matplotlib.pyplot as plt\n",
    "import itertools\n",
    "from typing import Optional\n",
    "import shutil\n",
    "\n",
    "\n",
    "# Args\n",
    "config_dir = \"./scorefield/configs/rrt.yaml\"\n",
    "args = load_config(config_dir)\n",
    "device = args['device']\n",
    "\n",
    "bg = Image.open('assets/toy_exp/background0.png')\n",
    "wastes = []\n",
    "wastes.append(Image.open('assets/toy_exp/waste0.png'))\n",
    "# wastes.append(Image.open('assets/toy_exp/waste4.png'))\n",
    "# wastes.append(Image.open('assets/toy_exp/waste5.png'))\n",
    "\n",
    "img_size = args['image_size']\n",
    "delta_dist = args['delta_dist']\n",
    "radius = args['radius']\n",
    "time_steps = args['time_steps']\n",
    "\n",
    "goal_bounds = args['goal_bounds']\n",
    "agent_bounds = args['agent_bounds']\n",
    "obstacle_pos = args['obstacles']\n",
    "\n",
    "iterations = args['iterations']\n",
    "train_lr = args['train_lr']\n",
    "batch_size = args['batch_size']"
   ]
  },
  {
   "cell_type": "code",
   "execution_count": 2,
   "id": "735c8080",
   "metadata": {},
   "outputs": [],
   "source": [
    "class Unet2D(Unet):\n",
    "    def __init__(\n",
    "        self, \n",
    "        dim, \n",
    "        out_dim, \n",
    "        dim_mults=(1, 2, 4, 8),\n",
    "    ):\n",
    "        super().__init__(dim=dim, out_dim=out_dim, dim_mults=dim_mults)\n",
    "\n",
    "    def forward(self, obs, t, x_t:Optional[torch.Tensor]=None):\n",
    "        score_map = super().forward(obs, t)\n",
    "        next_state = bilinear_interpolate_samples(score_map, x_t)    # output: (B,2)\n",
    "        return next_state\n",
    "    \n",
    "model = Unet2D(\n",
    "    dim=img_size,\n",
    "    out_dim = 2,\n",
    "    dim_mults = (1, 2, 4, 8),\n",
    ").to(device)\n",
    "\n",
    "rrt = RRTStar(\n",
    "    time_steps=time_steps,\n",
    "    delta_dist=delta_dist,\n",
    "    radius=radius,\n",
    "    device=device,\n",
    ")\n",
    "\n",
    "optim = torch.optim.Adam(params=model.parameters(), lr=train_lr)"
   ]
  },
  {
   "cell_type": "code",
   "execution_count": 4,
   "id": "53e60cd3",
   "metadata": {},
   "outputs": [
    {
     "name": "stderr",
     "output_type": "stream",
     "text": [
      "  0%|          | 0/6000 [00:11<?, ?it/s]\n"
     ]
    },
    {
     "ename": "RuntimeError",
     "evalue": "No active exception to reraise",
     "output_type": "error",
     "traceback": [
      "\u001b[0;31m---------------------------------------------------------------------------\u001b[0m",
      "\u001b[0;31mRuntimeError\u001b[0m                              Traceback (most recent call last)",
      "Cell \u001b[0;32mIn[4], line 20\u001b[0m\n\u001b[1;32m     18\u001b[0m     rrt_path \u001b[38;5;241m=\u001b[39m rrt\u001b[38;5;241m.\u001b[39mplan(initial, goal, obstacle_masks)\n\u001b[1;32m     19\u001b[0m rand_indices \u001b[38;5;241m=\u001b[39m rrt\u001b[38;5;241m.\u001b[39mrandom_sample()\n\u001b[0;32m---> 20\u001b[0m \u001b[38;5;28;01mraise\u001b[39;00m\n\u001b[1;32m     21\u001b[0m \u001b[38;5;28;01mfor\u001b[39;00m i \u001b[38;5;129;01min\u001b[39;00m \u001b[38;5;28mrange\u001b[39m(\u001b[38;5;28mlen\u001b[39m(rand_indices)):\n\u001b[1;32m     22\u001b[0m     pred \u001b[38;5;241m=\u001b[39m model(obs, )\n",
      "\u001b[0;31mRuntimeError\u001b[0m: No active exception to reraise"
     ]
    }
   ],
   "source": [
    "# Train with random single goal\n",
    "\n",
    "writer = SummaryWriter()\n",
    "shutil.copy('./scorefield/configs/rrt.yaml', writer.log_dir)\n",
    "\n",
    "for iters in tqdm(range(iterations)):\n",
    "    obstacle_masks = randgen_obstacle_masks(batch_size, img_size)\n",
    "    background = draw_obstacles_pixel(bg, obstacle_masks)\n",
    "    goals = gen_goals(goal_bounds, batch_size, img_size, obstacles=obstacle_masks)\n",
    "    goal = (torch.rand(batch_size, 1, 2, device=device, dtype=torch.float32) * 0.2 - 0.1) * 0.1 + goals\n",
    "    obs = overlay_goal(background, img_size, wastes, goal)\n",
    "    initials = gen_goals(goal_bounds, batch_size, img_size, obstacles=obstacle_masks)\n",
    "    \n",
    "    optim.zero_grad()\n",
    "    \n",
    "    losses = []\n",
    "    with torch.no_grad():\n",
    "        rrt_path = rrt.plan(initials, goal, obstacle_masks)\n",
    "    rand_indices = rrt.random_sample()\n",
    "\n",
    "    pred = model(obs, torch.tensor(rand_indices, device=device), initials)\n",
    "\n",
    "    square_diff = torch.sum((pred - torch.tensor(rrt_path[rand_indices+1]), device=device)**2, dim=-1)\n",
    "    loss = square_diff.mean()\n",
    "    loss.backward()\n",
    "    optim.step()\n",
    "    \n",
    "    print(loss.item())\n",
    "\n",
    "    if iters == iterations // 2:\n",
    "        torch.save(model.state_dict(), os.path.join(writer.log_dir, 'model_params_half.pt'))\n",
    "\n",
    "torch.save(model.state_dict(), os.path.join(writer.log_dir, 'model_params.pt'))\n",
    "            \n",
    "writer.close()\n"
   ]
  },
  {
   "cell_type": "code",
   "execution_count": 5,
   "id": "f2f0c3dd",
   "metadata": {},
   "outputs": [
    {
     "name": "stdout",
     "output_type": "stream",
     "text": [
      "60\n",
      "60\n",
      "60\n",
      "60\n",
      "60\n",
      "60\n",
      "60\n",
      "60\n",
      "60\n",
      "60\n",
      "60\n",
      "60\n",
      "60\n",
      "60\n",
      "60\n",
      "60\n",
      "60\n",
      "60\n"
     ]
    }
   ],
   "source": [
    "for b in range(len(rrt_path)):\n",
    "    print(len(rrt_path[b]))"
   ]
  },
  {
   "cell_type": "code",
   "execution_count": 6,
   "id": "8b5166e6",
   "metadata": {},
   "outputs": [
    {
     "data": {
      "text/plain": [
       "[37, 41, 42, 11, 7, 42, 18, 28, 2, 2, 29, 21, 51, 7, 25, 15, 37, 20]"
      ]
     },
     "execution_count": 6,
     "metadata": {},
     "output_type": "execute_result"
    }
   ],
   "source": [
    "rand_indices"
   ]
  },
  {
   "cell_type": "code",
   "execution_count": null,
   "id": "5c852824",
   "metadata": {},
   "outputs": [],
   "source": []
  }
 ],
 "metadata": {
  "kernelspec": {
   "display_name": "Python 3 (ipykernel)",
   "language": "python",
   "name": "python3"
  },
  "language_info": {
   "codemirror_mode": {
    "name": "ipython",
    "version": 3
   },
   "file_extension": ".py",
   "mimetype": "text/x-python",
   "name": "python",
   "nbconvert_exporter": "python",
   "pygments_lexer": "ipython3",
   "version": "3.8.10"
  }
 },
 "nbformat": 4,
 "nbformat_minor": 5
}
