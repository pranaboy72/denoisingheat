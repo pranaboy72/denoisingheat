{
 "cells": [
  {
   "cell_type": "code",
   "execution_count": 1,
   "id": "c4d64a70",
   "metadata": {},
   "outputs": [
    {
     "name": "stderr",
     "output_type": "stream",
     "text": [
      "/home/mlcs_edf/mambaforge/envs/diffusion/lib/python3.9/site-packages/tqdm/auto.py:21: TqdmWarning: IProgress not found. Please update jupyter and ipywidgets. See https://ipywidgets.readthedocs.io/en/stable/user_install.html\n",
      "  from .autonotebook import tqdm as notebook_tqdm\n"
     ]
    }
   ],
   "source": [
    "import os\n",
    "from datetime import datetime\n",
    "\n",
    "import torch\n",
    "import torch.nn.functional as F\n",
    "from torch.utils.tensorboard import SummaryWriter\n",
    "import numpy as np\n",
    "from tqdm import tqdm\n",
    "from PIL import Image, ImageDraw\n",
    "\n",
    "from scorefield.models.ddpm.denoising_diffusion import Unet\n",
    "from scorefield.models.rrt.rrt import RRTStar\n",
    "from scorefield.utils.rl_utils import load_config\n",
    "from scorefield.utils.utils import (\n",
    "    gen_goals, overlay_goal, overlay_multiple, combine_objects, overlay_images,\n",
    "    overlay_goal_agent, overlay_goals_agent, log_num_check,\n",
    "    draw_obstacles_pil, convert_to_obstacle_masks,\n",
    "    randgen_obstacle_masks, draw_obstacles_pixel,\n",
    "    vector_field, clip_vectors\n",
    ")\n",
    "from scorefield.utils.diffusion_utils import bilinear_interpolate, bilinear_interpolate_samples\n",
    "\n",
    "import matplotlib.pyplot as plt\n",
    "import itertools\n",
    "from typing import Optional\n",
    "import shutil\n",
    "\n",
    "\n",
    "# Args\n",
    "config_dir = \"./scorefield/configs/rrt.yaml\"\n",
    "args = load_config(config_dir)\n",
    "device = args['device']\n",
    "\n",
    "bg = Image.open('assets/toy_exp/background0.png')\n",
    "wastes = []\n",
    "wastes.append(Image.open('assets/toy_exp/waste0.png'))\n",
    "# wastes.append(Image.open('assets/toy_exp/waste4.png'))\n",
    "# wastes.append(Image.open('assets/toy_exp/waste5.png'))\n",
    "\n",
    "img_size = args['image_size']\n",
    "delta_dist = args['delta_dist']\n",
    "radius = args['radius']\n",
    "time_steps = args['time_steps']\n",
    "sample_num = args['sample_num']\n",
    "\n",
    "goal_bounds = args['goal_bounds']\n",
    "agent_bounds = args['agent_bounds']\n",
    "obstacle_pos = args['obstacles']\n",
    "\n",
    "iterations = args['iterations']\n",
    "train_lr = args['train_lr']\n",
    "batch_size = args['batch_size']"
   ]
  },
  {
   "cell_type": "code",
   "execution_count": 2,
   "id": "d6280b55",
   "metadata": {},
   "outputs": [],
   "source": [
    "class Unet2D(Unet):\n",
    "    def __init__(\n",
    "        self, \n",
    "        dim, \n",
    "        out_dim, \n",
    "        dim_mults=(1, 2, 4, 8),\n",
    "    ):\n",
    "        super().__init__(dim=dim, out_dim=out_dim, dim_mults=dim_mults)\n",
    "\n",
    "    def forward(self, obs, t, x_t:Optional[torch.Tensor]=None):\n",
    "        score_map = super().forward(obs, t)\n",
    "        score = bilinear_interpolate_samples(score_map, x_t)    # output: (B,2)\n",
    "        return score\n",
    "\n",
    "    \n",
    "model = Unet2D(\n",
    "    dim=img_size,\n",
    "    out_dim = 2,\n",
    "    dim_mults = (1, 2, 4, 8),\n",
    ").to(device)\n",
    "\n",
    "rrt = RRTStar(\n",
    "    image_size=img_size,\n",
    "    time_steps=time_steps,\n",
    "    delta_dist=delta_dist,\n",
    "    radius=radius,\n",
    "    device=device,\n",
    ")\n",
    "\n",
    "optim = torch.optim.Adam(params=model.parameters(), lr=train_lr)"
   ]
  },
  {
   "cell_type": "code",
   "execution_count": 13,
   "id": "414eec16",
   "metadata": {},
   "outputs": [
    {
     "name": "stderr",
     "output_type": "stream",
     "text": [
      "  0%|          | 0/6000 [00:00<?, ?it/s]"
     ]
    },
    {
     "name": "stdout",
     "output_type": "stream",
     "text": [
      "torch.Size([18, 10, 2]) torch.Size([18, 10, 2])\n",
      "torch.Size([18, 10, 2]) torch.Size([18, 10, 2])\n",
      "torch.Size([18, 10, 2]) torch.Size([18, 10, 2])\n",
      "torch.Size([18, 10, 2]) torch.Size([18, 10, 2])\n",
      "torch.Size([18, 10, 2]) torch.Size([18, 10, 2])\n",
      "torch.Size([18, 10, 2]) torch.Size([18, 10, 2])\n",
      "torch.Size([18, 10, 2]) torch.Size([18, 10, 2])\n",
      "torch.Size([18, 10, 2]) torch.Size([18, 10, 2])\n",
      "torch.Size([18, 10, 2]) torch.Size([18, 10, 2])\n",
      "torch.Size([18, 10, 2]) torch.Size([18, 10, 2])\n"
     ]
    },
    {
     "name": "stderr",
     "output_type": "stream",
     "text": [
      "  0%|          | 0/6000 [00:03<?, ?it/s]\n"
     ]
    },
    {
     "ename": "RuntimeError",
     "evalue": "The size of tensor a (10) must match the size of tensor b (18) at non-singleton dimension 1",
     "output_type": "error",
     "traceback": [
      "\u001b[0;31m---------------------------------------------------------------------------\u001b[0m",
      "\u001b[0;31mRuntimeError\u001b[0m                              Traceback (most recent call last)",
      "Cell \u001b[0;32mIn[13], line 47\u001b[0m\n\u001b[1;32m     44\u001b[0m deltas_norm \u001b[39m=\u001b[39m torch\u001b[39m.\u001b[39mnorm(deltas\u001b[39m.\u001b[39mdetach(), dim\u001b[39m=\u001b[39m\u001b[39m-\u001b[39m\u001b[39m1\u001b[39m)\n\u001b[1;32m     45\u001b[0m pred_deltas_norm \u001b[39m=\u001b[39m torch\u001b[39m.\u001b[39mnorm(pred_deltas\u001b[39m.\u001b[39mdetach(), dim\u001b[39m=\u001b[39m\u001b[39m-\u001b[39m\u001b[39m1\u001b[39m)\n\u001b[0;32m---> 47\u001b[0m dotprod \u001b[39m=\u001b[39m torch\u001b[39m.\u001b[39msum(deltas\u001b[39m.\u001b[39;49mdetach() \u001b[39m*\u001b[39;49m pred_deltas\u001b[39m.\u001b[39;49mdetach(), dim\u001b[39m=\u001b[39m\u001b[39m-\u001b[39m\u001b[39m1\u001b[39m)\n\u001b[1;32m     48\u001b[0m cosine_sim \u001b[39m=\u001b[39m dotprod \u001b[39m/\u001b[39m (torch\u001b[39m.\u001b[39mnorm(deltas\u001b[39m.\u001b[39mdetach(), dim\u001b[39m=\u001b[39m\u001b[39m-\u001b[39m\u001b[39m1\u001b[39m) \u001b[39m*\u001b[39m torch\u001b[39m.\u001b[39mnorm(pred_deltas\u001b[39m.\u001b[39mdetach(), dim\u001b[39m=\u001b[39m\u001b[39m-\u001b[39m\u001b[39m1\u001b[39m)\u001b[39m+\u001b[39m\u001b[39m1e-8\u001b[39m)\n\u001b[1;32m     50\u001b[0m writer\u001b[39m.\u001b[39madd_scalar(\u001b[39m\"\u001b[39m\u001b[39mLoss/train\u001b[39m\u001b[39m\"\u001b[39m, loss\u001b[39m.\u001b[39mitem(), iters)\n",
      "\u001b[0;31mRuntimeError\u001b[0m: The size of tensor a (10) must match the size of tensor b (18) at non-singleton dimension 1"
     ]
    }
   ],
   "source": [
    "# Train with random single goal\n",
    "\n",
    "current_time = datetime.now().strftime('%b%d_%H-%M-%S')\n",
    "log_dir = os.path.join('./runs/expert/', current_time)\n",
    "writer = SummaryWriter(log_dir)\n",
    "shutil.copy('./scorefield/configs/rrt.yaml', writer.log_dir)\n",
    "\n",
    "assert batch_size % 2 == 0\n",
    "\n",
    "# background = draw_obstacles_pil(bg, obstacle_pos)\n",
    "# obstacle_masks = convert_to_obstacle_masks(batch_size, background[0].size, img_size, obstacle_pos)\n",
    "\n",
    "for iters in tqdm(range(iterations)):\n",
    "    obstacle_masks = randgen_obstacle_masks(batch_size, img_size) #.repeat_interleave(sample_num, dim=0)\n",
    "    background = draw_obstacles_pixel(bg, obstacle_masks)\n",
    "    goals = gen_goals(goal_bounds, batch_size, img_size, obstacles=obstacle_masks)\n",
    "    goal = (torch.rand(batch_size, 1, 2, device=device, dtype=torch.float32) * 0.2 - 0.1) * 0.1 + goals\n",
    "    obs = overlay_goal(background, img_size, wastes, goal)\n",
    "    initials = gen_goals(goal_bounds, batch_size, img_size, obstacles=obstacle_masks)\n",
    "\n",
    "    optim.zero_grad()\n",
    "    \n",
    "    losses = []\n",
    "    deltas = []\n",
    "    pred_deltas = []\n",
    "    \n",
    "    for i in range(time_steps):\n",
    "        t = torch.ones(1).long().to(device)\n",
    "        with torch.no_grad():\n",
    "            paths, delta = rrt.plan(initials, goal, obstacle_masks)\n",
    "        pred_delta = model(obs, t, paths[:,i].unsqueeze(1))\n",
    "        \n",
    "        squared_diff = torch.sum((pred_delta - delta[:, i].unsqueeze(1))**2, dim=-1)\n",
    "        losses.append(torch.mean(squared_diff))\n",
    "        deltas.append(delta[:, i])\n",
    "        pred_deltas.append(pred_delta.unsqueeze(1))\n",
    "        \n",
    "    loss = sum(losses)/len(losses)\n",
    "    loss.backward()\n",
    "    optim.step()\n",
    "    deltas = torch.stack(deltas)\n",
    "    pred_deltas = torch.stack(pred_deltas)\n",
    "    \n",
    "    deltas_norm = torch.norm(deltas.detach(), dim=-1)\n",
    "    pred_deltas_norm = torch.norm(pred_deltas.detach(), dim=-1)\n",
    "    \n",
    "    dotprod = torch.sum(deltas.detach() * pred_deltas.detach(), dim=-1)\n",
    "    cosine_sim = dotprod / (torch.norm(deltas.detach(), dim=-1) * torch.norm(pred_deltas.detach(), dim=-1)+1e-8)\n",
    "    \n",
    "    writer.add_scalar(\"Loss/train\", loss.item(), iters)\n",
    "    writer.add_scalar(\"Norm/target_score\", torch.mean(deltas_norm).item(), iters)\n",
    "    writer.add_scalar(\"Norm/pred_score\", torch.mean(pred_deltas_norm).item(), iters)\n",
    "    writer.add_scalar(\"Similarity/dot_product\", torch.mean(dotprod).item(), iters)\n",
    "    writer.add_scalar(\"Similarity/cosine_similarity\", torch.mean(cosine_sim).item(), iters)\n",
    "\n",
    "    if iters == iterations // 2:\n",
    "        torch.save(model.state_dict(), os.path.join(writer.log_dir, 'model_params_half.pt'))\n",
    "\n",
    "torch.save(model.state_dict(), os.path.join(writer.log_dir, 'model_params.pt'))\n",
    "            \n",
    "writer.close()\n"
   ]
  },
  {
   "cell_type": "code",
   "execution_count": 11,
   "id": "7b650488",
   "metadata": {},
   "outputs": [
    {
     "name": "stdout",
     "output_type": "stream",
     "text": [
      "torch.Size([10, 18])\n"
     ]
    }
   ],
   "source": [
    "print(torch.norm(deltas, dim=-1).shape)"
   ]
  },
  {
   "cell_type": "code",
   "execution_count": 16,
   "id": "74202ac0",
   "metadata": {},
   "outputs": [
    {
     "name": "stdout",
     "output_type": "stream",
     "text": [
      "torch.Size([10, 18, 2]) torch.Size([10, 18, 1, 2])\n"
     ]
    }
   ],
   "source": [
    "print(deltas.shape,pred_deltas.shape)"
   ]
  },
  {
   "cell_type": "code",
   "execution_count": 12,
   "id": "63ed45e4",
   "metadata": {},
   "outputs": [
    {
     "data": {
      "image/png": "[encoded data removed]",
      "text/plain": [
       "<Figure size 640x480 with 1 Axes>"
      ]
     },
     "metadata": {},
     "output_type": "display_data"
    }
   ],
   "source": [
    "plt.imshow(obs[6].permute(1,2,0).cpu().numpy())\n",
    "plt.show()"
   ]
  }
 ],
 "metadata": {
  "kernelspec": {
   "display_name": "Python 3 (ipykernel)",
   "language": "python",
   "name": "python3"
  },
  "language_info": {
   "codemirror_mode": {
    "name": "ipython",
    "version": 3
   },
   "file_extension": ".py",
   "mimetype": "text/x-python",
   "name": "python",
   "nbconvert_exporter": "python",
   "pygments_lexer": "ipython3",
   "version": "3.9.18"
  }
 },
 "nbformat": 4,
 "nbformat_minor": 5
}
