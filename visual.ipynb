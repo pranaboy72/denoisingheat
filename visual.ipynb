import os
import math

import torch
import numpy as np
from PIL import Image, ImageDraw

from scorefield.models.ddpm.denoising_diffusion import Unet
from scorefield.models.heat.heat_diffusion import HeatDiffusion
from scorefield.utils.rl_utils import load_config
from scorefield.utils.utils import (
    gen_goals, overlay_goal, overlay_multiple, combine_objects, overlay_images,
    overlay_goal_agent, overlay_goals_agent, log_num_check,
    draw_obstacles_pil, convert_to_obstacle_masks,
    randgen_obstacle_masks, draw_obstacles_pixel,
    vector_field, clip_vectors
)

import matplotlib.pyplot as plt

import imageio.v2 as imageio
import plotly.graph_objs as go
from plotly.subplots import make_subplots
import plotly.figure_factory as ff


# Args
config_dir = "./scorefield/configs/heat_diffusion.yaml"
args = load_config(config_dir)
device = args['device']

bg = Image.open('assets/toy_exp/background0.png')
wastes = []
wastes.append(Image.open('assets/toy_exp/waste0.png'))
# wastes.append(Image.open('assets/toy_exp/waste4.png'))
# wastes.append(Image.open('assets/toy_exp/waste5.png'))


img_size = args['image_size']
goal_bounds = args['goal_bounds']
goal_num = len(wastes)
agent_bounds = args['agent_bounds']
obstacle_pos = args['obstacles']

model_path = os.path.join(args['log_path'], args['model_path'])

u0 = args['u0']
heat_steps = args['heat_steps']
noise_steps = args['noise_steps']
sample_num = args['sample_num']
time_type = args['time_type']

epochs = args['epochs']
train_lr = args['train_lr']
iterations = args['iterations']
random_goals = args['random_goals']
batch_size = noise_steps * sample_num #args['batch_size']


diffusion = HeatDiffusion(
    image_size=img_size,
    u0 = u0,
    noise_steps=noise_steps,
    heat_steps=heat_steps,
    time_type=time_type,
    device=device,
)

obstacle_masks = convert_to_obstacle_masks(noise_steps, bg.size, img_size, obstacle_pos)
background = draw_obstacles_pixel(bg, obstacle_masks)
# background = [bg]
goal = torch.tensor([[[-0.7,-0.]]]*noise_steps, device=device)
obs = overlay_goal(background, img_size, wastes, goal)
t = torch.tensor([i for i in range(1, noise_steps+1, sample_num)], device=device)
heat, score, score_field, xt = diffusion.forward_diffusion(t, goal, sample_num, obstacle_masks)
